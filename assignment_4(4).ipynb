{
  "nbformat": 4,
  "nbformat_minor": 0,
  "metadata": {
    "colab": {
      "provenance": []
    },
    "kernelspec": {
      "name": "python3",
      "display_name": "Python 3"
    },
    "language_info": {
      "name": "python"
    }
  },
  "cells": [
    {
      "cell_type": "code",
      "execution_count": null,
      "metadata": {
        "id": "ITQhxbXLlNIp"
      },
      "outputs": [],
      "source": [
        "#1)Write a Python program to loop through all the elements in a list\n",
        "#Ex:\n",
        "#Input: [1,2,3,4,5,6]\n",
        "#Output:\n",
        "#1\n",
        "#2\n",
        "#3\n",
        "#4\n",
        "#5\n",
        "#6"
      ]
    },
    {
      "cell_type": "code",
      "source": [
        "my_list=[1,2,3,4,5,6]\n",
        "for element in my_list:\n",
        "  print(element)"
      ],
      "metadata": {
        "colab": {
          "base_uri": "https://localhost:8080/"
        },
        "id": "cxSae29flhE0",
        "outputId": "328f07ee-cd60-48dc-f954-7db2badc5d6f"
      },
      "execution_count": null,
      "outputs": [
        {
          "output_type": "stream",
          "name": "stdout",
          "text": [
            "1\n",
            "2\n",
            "3\n",
            "4\n",
            "5\n",
            "6\n"
          ]
        }
      ]
    },
    {
      "cell_type": "code",
      "source": [
        "#2)Write a Python program where you will ask the users to insert elements in a list"
      ],
      "metadata": {
        "id": "91QvJwFUmTup"
      },
      "execution_count": null,
      "outputs": []
    },
    {
      "cell_type": "code",
      "source": [
        "my_list=[]\n",
        "while True:\n",
        "   element=input(\"Enter an element to add to the list(or'done to finish):\")\n",
        "\n",
        "   if element=='done':\n",
        "    break\n",
        "   my_list.append(element)\n",
        "print(\"final list.\",my_list)"
      ],
      "metadata": {
        "colab": {
          "base_uri": "https://localhost:8080/"
        },
        "id": "UFylxQEvmijX",
        "outputId": "827b100a-918b-41a5-9e97-3087ef8aabfb"
      },
      "execution_count": null,
      "outputs": [
        {
          "output_type": "stream",
          "name": "stdout",
          "text": [
            "Enter an element to add to the list(or'done to finish):22\n",
            "Enter an element to add to the list(or'done to finish):33\n",
            "Enter an element to add to the list(or'done to finish):44\n",
            "Enter an element to add to the list(or'done to finish):55\n",
            "Enter an element to add to the list(or'done to finish):done\n",
            "final list. ['22', '33', '44', '55']\n"
          ]
        }
      ]
    },
    {
      "cell_type": "code",
      "source": [
        "#3)Write a Python program to remove all the odd index value from a list and only even index elements should remain\n",
        "#Ex:\n",
        "#Input: [1,2,3,4,5,6,7,”a”]\n",
        "#Output: [1,3,5,7]"
      ],
      "metadata": {
        "id": "6YDk1vUmn1sH"
      },
      "execution_count": null,
      "outputs": []
    },
    {
      "cell_type": "code",
      "source": [
        "input_list=[1,2,3,4,5,6,7,\"a\"]\n",
        "output_list=[]\n",
        "for index in range(len(input_list)):\n",
        "   if index%2==0:\n",
        "     output_list.append(input_list[index])\n",
        "print(\"Output:\",output_list)"
      ],
      "metadata": {
        "colab": {
          "base_uri": "https://localhost:8080/"
        },
        "id": "CrfWEroZoaK6",
        "outputId": "cf59d8c4-75d5-4689-900f-820dca3ff941"
      },
      "execution_count": null,
      "outputs": [
        {
          "output_type": "stream",
          "name": "stdout",
          "text": [
            "Output: [1, 3, 5, 7]\n"
          ]
        }
      ]
    },
    {
      "cell_type": "code",
      "source": [
        "#4) Write a Python program to sum and multiply all the items in a list\n",
        "#Ex:\n",
        "#Input: [1,2,3,4]\n",
        "#Output: sum: -10\n",
        " #Product: -24"
      ],
      "metadata": {
        "id": "D2e3hUp0oE0Q"
      },
      "execution_count": null,
      "outputs": []
    },
    {
      "cell_type": "code",
      "source": [
        "my_list=[1,2,3,4]\n",
        "sum_result=sum(my_list)\n",
        "product_result=1\n",
        "\n",
        "for item in my_list:\n",
        "     product_result*=item\n",
        "print(\"Sum:\",sum_result)\n",
        "print(\"Product:\",product_result)"
      ],
      "metadata": {
        "colab": {
          "base_uri": "https://localhost:8080/"
        },
        "id": "57lXaTlOpyie",
        "outputId": "7b19869b-68b9-4896-f685-e7fbd2bbb617"
      },
      "execution_count": null,
      "outputs": [
        {
          "output_type": "stream",
          "name": "stdout",
          "text": [
            "Sum: 10\n",
            "Product: 24\n"
          ]
        }
      ]
    },
    {
      "cell_type": "code",
      "source": [
        "#5)Write a Python program to get the maximum and minimum numbers from a list\n",
        "#Ex:\n",
        "#Input: [8,4,11,7,90]\n",
        "#Output: max: - 90\n",
        " #Min: - 4\n",
        "#"
      ],
      "metadata": {
        "id": "JjHMLcxgrWsu"
      },
      "execution_count": null,
      "outputs": []
    },
    {
      "cell_type": "code",
      "source": [
        "my_list=[8,4,11,7,90]\n",
        "max_number=max(my_list)\n",
        "min_number=min(my_list)\n",
        "print(\"Max:\",max_number)\n",
        "print(\"Min:\",min_number)\n"
      ],
      "metadata": {
        "colab": {
          "base_uri": "https://localhost:8080/"
        },
        "id": "Rio13y7lrv8M",
        "outputId": "52abb230-7e91-4d0e-9ced-eafc842c0783"
      },
      "execution_count": null,
      "outputs": [
        {
          "output_type": "stream",
          "name": "stdout",
          "text": [
            "Max: 90\n",
            "Min: 4\n"
          ]
        }
      ]
    },
    {
      "cell_type": "code",
      "source": [
        "#6)Write a Python program to print a specified list after removing the 0th, 4th and 5th elements.\n",
        "#Ex:\n",
        "#Input: ['Red', 'Green', 'White', 'Black', 'Pink', 'Yellow']\n",
        "#Output: ['Green', 'White', 'Black']"
      ],
      "metadata": {
        "id": "st0NESJ6snuK"
      },
      "execution_count": null,
      "outputs": []
    },
    {
      "cell_type": "code",
      "source": [
        "my_list=['Red','Green', 'White', 'Black', 'Pink', 'Yellow']\n",
        "indices_to_remove=[0,4,5]\n",
        "new_list=[item for index,item in enumerate(my_list)if index not in indices_to_remove]\n",
        "print(new_list)"
      ],
      "metadata": {
        "colab": {
          "base_uri": "https://localhost:8080/"
        },
        "id": "FDc0KMdqtTUa",
        "outputId": "e52191a1-2149-4d5b-defd-87e42f717a5c"
      },
      "execution_count": null,
      "outputs": [
        {
          "output_type": "stream",
          "name": "stdout",
          "text": [
            "['Green', 'White', 'Black']\n"
          ]
        }
      ]
    },
    {
      "cell_type": "code",
      "source": [
        "#7)Write a Python program to convert a list of characters into a string\n"
      ],
      "metadata": {
        "id": "b7Ycb8kMuGw_"
      },
      "execution_count": null,
      "outputs": []
    },
    {
      "cell_type": "code",
      "source": [
        "char_list=['H','e','l','l','o']\n",
        "string=''.join(char_list)\n",
        "print(string)"
      ],
      "metadata": {
        "colab": {
          "base_uri": "https://localhost:8080/"
        },
        "id": "XiQQUFdfu1Af",
        "outputId": "9e6110ab-55d2-49e1-fa8c-775eba401619"
      },
      "execution_count": null,
      "outputs": [
        {
          "output_type": "stream",
          "name": "stdout",
          "text": [
            "Hello\n"
          ]
        }
      ]
    },
    {
      "cell_type": "code",
      "source": [
        "#8) Write a Python program to compute average of given lists."
      ],
      "metadata": {
        "id": "mtxNaEoCvXOn"
      },
      "execution_count": null,
      "outputs": []
    },
    {
      "cell_type": "code",
      "source": [
        "numbers = [30, 55, 3, 10, 2]\n",
        "\n",
        "average = sum(numbers)/len(numbers)\n",
        "\n",
        "print(\"Average of list: \", round(average,3))"
      ],
      "metadata": {
        "colab": {
          "base_uri": "https://localhost:8080/"
        },
        "id": "Ax71_5vPvf6A",
        "outputId": "f9d4cae8-d4f5-4cdd-82a4-f3f964d9af72"
      },
      "execution_count": null,
      "outputs": [
        {
          "output_type": "stream",
          "name": "stdout",
          "text": [
            "Average of list:  20.0\n"
          ]
        }
      ]
    },
    {
      "cell_type": "code",
      "source": [
        "# 9)Write a Python program to count integer in a given mixed list.\n",
        "#Ex:\n",
        "#Input: [10, “a”,2,3,5.5,1.34,” Abc”,” rt”]\n",
        "#Output: Number of integers in the list:"
      ],
      "metadata": {
        "id": "JfA5UUYjFflE"
      },
      "execution_count": null,
      "outputs": []
    },
    {
      "cell_type": "code",
      "source": [
        "mixed_list=[10,\"a\",2,3,5.5,1.34,\"Abc\",\"rt\"]\n",
        "count=sum(isinstance(item,int)for item in mixed_list)\n",
        "print( \"Number of integers in the list:\",count)"
      ],
      "metadata": {
        "colab": {
          "base_uri": "https://localhost:8080/"
        },
        "id": "ohquqoWKGkZf",
        "outputId": "8b9086f9-f18f-4d6d-fe53-06de1bcc3966"
      },
      "execution_count": null,
      "outputs": [
        {
          "output_type": "stream",
          "name": "stdout",
          "text": [
            "Number of integers in the list: 3\n"
          ]
        }
      ]
    },
    {
      "cell_type": "code",
      "source": [
        "# 10)Write a Python program to reverse the list"
      ],
      "metadata": {
        "id": "tJdFczp_IHzO"
      },
      "execution_count": null,
      "outputs": []
    },
    {
      "cell_type": "code",
      "source": [
        "my_list=[1,2,3,4,5]\n",
        "reversed_list=my_list[::-1]\n",
        "print(reversed_list)"
      ],
      "metadata": {
        "id": "pGEVuwRKIZNS",
        "colab": {
          "base_uri": "https://localhost:8080/"
        },
        "outputId": "1ac93388-12e0-44f4-ae85-06dd2e563b47"
      },
      "execution_count": null,
      "outputs": [
        {
          "output_type": "stream",
          "name": "stdout",
          "text": [
            "[5, 4, 3, 2, 1]\n"
          ]
        }
      ]
    },
    {
      "cell_type": "code",
      "source": [
        "# 11 Write a Python program convert a given string to a tuple\n",
        "#Ex:\n",
        "#Input: “python1.2”\n",
        "#Output: (“p”,” y”,”t”,”h”,” o”,” n”,”1”,”.”,”2”)"
      ],
      "metadata": {
        "id": "3jt6_JFqQnA4"
      },
      "execution_count": null,
      "outputs": []
    },
    {
      "cell_type": "code",
      "source": [
        "def string_to_tuple(input_string):\n",
        "    char_list = [char for char in input_string]\n",
        "    char_tuple = tuple(char_list)\n",
        "    return char_tuple\n",
        "\n",
        "input_string = \"python1.2\"\n",
        "output_tuple = string_to_tuple(input_string)\n",
        "print(output_tuple)"
      ],
      "metadata": {
        "colab": {
          "base_uri": "https://localhost:8080/"
        },
        "id": "2FZ4o6wqRz37",
        "outputId": "1b4ac3e2-a83f-46a8-b649-01a7cca3a450"
      },
      "execution_count": null,
      "outputs": [
        {
          "output_type": "stream",
          "name": "stdout",
          "text": [
            "('p', 'y', 't', 'h', 'o', 'n', '1', '.', '2')\n"
          ]
        }
      ]
    },
    {
      "cell_type": "code",
      "source": [],
      "metadata": {
        "id": "OID3F1mfR7w1"
      },
      "execution_count": null,
      "outputs": []
    }
  ]
}