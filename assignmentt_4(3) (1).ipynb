{
  "nbformat": 4,
  "nbformat_minor": 0,
  "metadata": {
    "colab": {
      "provenance": []
    },
    "kernelspec": {
      "name": "python3",
      "display_name": "Python 3"
    },
    "language_info": {
      "name": "python"
    }
  },
  "cells": [
    {
      "cell_type": "code",
      "execution_count": null,
      "metadata": {
        "id": "YriJowPiuVBw"
      },
      "outputs": [],
      "source": [
        "# 1) Write a python program that prints all the numbers from 0 to 6,excepts 3 and 6"
      ]
    },
    {
      "cell_type": "code",
      "source": [
        "for num in range(7):\n",
        "   print(num)\n"
      ],
      "metadata": {
        "colab": {
          "base_uri": "https://localhost:8080/"
        },
        "id": "s8gFB8bfx4iq",
        "outputId": "416f6384-3404-4bfa-d56e-37808ba6774d"
      },
      "execution_count": null,
      "outputs": [
        {
          "output_type": "stream",
          "name": "stdout",
          "text": [
            "0\n",
            "1\n",
            "2\n",
            "3\n",
            "4\n",
            "5\n",
            "6\n"
          ]
        }
      ]
    },
    {
      "cell_type": "code",
      "source": [
        "#2) write a program to accept a number from a user and calculate the sum of all numbers from 1 to given number"
      ],
      "metadata": {
        "id": "pLNEbFRGyBje"
      },
      "execution_count": null,
      "outputs": []
    },
    {
      "cell_type": "code",
      "source": [
        "num=int(input(\"Enter a number:\"))\n",
        "sum=0\n",
        "\n",
        "for i in range(1,num+1):\n",
        "   sum +=1\n",
        "\n",
        "print(\"the sum of all numbers from 1 to\",num,\"is\",sum)"
      ],
      "metadata": {
        "colab": {
          "base_uri": "https://localhost:8080/"
        },
        "id": "Dxgr6aYayQxB",
        "outputId": "a9d980f3-635f-4f25-93d4-2ff87e7054b0"
      },
      "execution_count": null,
      "outputs": [
        {
          "output_type": "stream",
          "name": "stdout",
          "text": [
            "Enter a number:45\n",
            "the sum of all numbers from 1 to 45 is 45\n"
          ]
        }
      ]
    },
    {
      "cell_type": "code",
      "source": [
        "# 3) given number(input)write a python program to print multiplication table of a given number(input)"
      ],
      "metadata": {
        "id": "DZtwISdiyfWO"
      },
      "execution_count": null,
      "outputs": []
    },
    {
      "cell_type": "code",
      "source": [
        "print(\"Enter a Number: \")\n",
        "num = int(input())\n",
        "k = 1\n",
        "print(\"\\nMultiplication Table:\")\n",
        "for i in range(10):\n",
        "  mul = num*k\n",
        "  print(mul)\n",
        "  k = k+1"
      ],
      "metadata": {
        "colab": {
          "base_uri": "https://localhost:8080/"
        },
        "id": "UFCcVqBFyo9z",
        "outputId": "8474b41e-25d9-4c31-ff44-7702d4362cc2"
      },
      "execution_count": null,
      "outputs": [
        {
          "output_type": "stream",
          "name": "stdout",
          "text": [
            "Enter a Number: \n",
            "6\n",
            "\n",
            "Multiplication Table:\n",
            "6\n",
            "12\n",
            "18\n",
            "24\n",
            "30\n",
            "36\n",
            "42\n",
            "48\n",
            "54\n",
            "60\n"
          ]
        }
      ]
    },
    {
      "cell_type": "code",
      "source": [
        "#4) Write a program to count the total number of digits in a number using while loop"
      ],
      "metadata": {
        "id": "_ZSjm6oLzWim"
      },
      "execution_count": null,
      "outputs": []
    },
    {
      "cell_type": "code",
      "source": [
        "num=int(input(\"Enter a number:\"))\n",
        "count=0\n",
        "while num!=0:\n",
        "  num//=10\n",
        "  count+=1\n",
        "print(\"the total number of digits is:\",count)"
      ],
      "metadata": {
        "colab": {
          "base_uri": "https://localhost:8080/"
        },
        "id": "SkKZWqyjz8M3",
        "outputId": "3202f49b-a703-4e4a-f846-3f2121b67371"
      },
      "execution_count": null,
      "outputs": [
        {
          "output_type": "stream",
          "name": "stdout",
          "text": [
            "Enter a number:25\n",
            "the total number of digits is: 2\n"
          ]
        }
      ]
    },
    {
      "cell_type": "code",
      "source": [
        "#5) W rite a  python program to guess a number between 1 to\n",
        "# example- user is prompted to enter a guess. if the user guesses wrong then the prompt appear again\n",
        "#until the guess is correct on successful guess,user will get a \"well guessed!\" message and program will exit."
      ],
      "metadata": {
        "id": "dnedCZAx0gn7"
      },
      "execution_count": null,
      "outputs": []
    },
    {
      "cell_type": "code",
      "source": [
        "import random\n",
        "\n",
        "range_start = 1\n",
        "range_end = 10\n",
        "target_number = random.randint(range_start, range_end)\n",
        "\n",
        "correct_guess = False\n",
        "\n",
        "while not correct_guess:\n",
        "    guess = int(input(\"Enter your guess: \"))\n",
        "\n",
        "    if guess == target_number:\n",
        "        print(\"Well guessed!\")\n",
        "        correct_guess = True\n",
        "    else:\n",
        "        print(\"Wrong guess. Try again!\")"
      ],
      "metadata": {
        "colab": {
          "base_uri": "https://localhost:8080/"
        },
        "id": "vQ0vcZnP205X",
        "outputId": "3affd8bd-4faa-4637-faec-84c0529c330c"
      },
      "execution_count": null,
      "outputs": [
        {
          "output_type": "stream",
          "name": "stdout",
          "text": [
            "Enter your guess: 4\n",
            "Wrong guess. Try again!\n",
            "Enter your guess: 6\n",
            "Well guessed!\n"
          ]
        }
      ]
    },
    {
      "cell_type": "code",
      "source": [
        "# 6) write a python program which irritates the integers from 1 to 60 . for multiples of three print \"fizz\" insted\n",
        "# numbers and for multiple of five print \"Buzz\" for number which are multiple of both three and five print \"FizzBuzz\""
      ],
      "metadata": {
        "id": "KV42GoYL4E29"
      },
      "execution_count": null,
      "outputs": []
    },
    {
      "cell_type": "code",
      "source": [
        "for num in range(1, 61):\n",
        "    if num % 3 == 0 and num % 5 == 0:\n",
        "        print(\"FizzBuzz\")\n",
        "    elif num % 3 == 0:\n",
        "        print(\"Fizz\")\n",
        "    elif num % 5 == 0:\n",
        "        print(\"Buzz\")\n",
        "    else:\n",
        "        print(num)\n"
      ],
      "metadata": {
        "id": "7j1OgsCh5fBU",
        "outputId": "d38d2a2b-3fbd-4e8f-ac37-419ff766196e",
        "colab": {
          "base_uri": "https://localhost:8080/"
        }
      },
      "execution_count": null,
      "outputs": [
        {
          "output_type": "stream",
          "name": "stdout",
          "text": [
            "1\n",
            "2\n",
            "Fizz\n",
            "4\n",
            "Buzz\n",
            "Fizz\n",
            "7\n",
            "8\n",
            "Fizz\n",
            "Buzz\n",
            "11\n",
            "Fizz\n",
            "13\n",
            "14\n",
            "FizzBuzz\n",
            "16\n",
            "17\n",
            "Fizz\n",
            "19\n",
            "Buzz\n",
            "Fizz\n",
            "22\n",
            "23\n",
            "Fizz\n",
            "Buzz\n",
            "26\n",
            "Fizz\n",
            "28\n",
            "29\n",
            "FizzBuzz\n",
            "31\n",
            "32\n",
            "Fizz\n",
            "34\n",
            "Buzz\n",
            "Fizz\n",
            "37\n",
            "38\n",
            "Fizz\n",
            "Buzz\n",
            "41\n",
            "Fizz\n",
            "43\n",
            "44\n",
            "FizzBuzz\n",
            "46\n",
            "47\n",
            "Fizz\n",
            "49\n",
            "Buzz\n",
            "Fizz\n",
            "52\n",
            "53\n",
            "Fizz\n",
            "Buzz\n",
            "56\n",
            "Fizz\n",
            "58\n",
            "59\n",
            "FizzBuzz\n"
          ]
        }
      ]
    },
    {
      "cell_type": "code",
      "source": [
        "# 7)Write a Python program that accepts a string and calculate the number of digits and letters\n",
        "#Example:\n",
        "#Input\n",
        "#Output\n",
        "#Letters 6\n",
        "#Digits 2"
      ],
      "metadata": {
        "id": "ZOj0xIaMFB3v"
      },
      "execution_count": null,
      "outputs": []
    },
    {
      "cell_type": "code",
      "source": [
        "def count_digit_letter(string):\n",
        "  num_digit=0\n",
        "  num_letters=0\n",
        "  for char in string:\n",
        "    if char.isdigit():\n",
        "      num_digits+=1\n",
        "    elif char.isalpha():\n",
        "      num_letters+=1\n",
        "\n",
        "  return f\" Letters(num_letters)\\nDigits{num_digits}\"\n"
      ],
      "metadata": {
        "id": "VOFbE1MQFTcW"
      },
      "execution_count": null,
      "outputs": []
    },
    {
      "cell_type": "code",
      "source": [
        "# 8)Write a Python program to check the validity of password input by users.\n",
        "#Validation:\n",
        "#At least 1 letter between [a-z] and 1 letter between [A-Z].\n",
        "#At least 1 number between [0-9].\n",
        "#At least 1 character from [$#@].\n",
        "#Minimum length 6 characters.\n",
        "#Maximum length 16 characters."
      ],
      "metadata": {
        "id": "nNa4tdDrHayD"
      },
      "execution_count": null,
      "outputs": []
    },
    {
      "cell_type": "code",
      "source": [
        "import re\n",
        "\n",
        "def check_password_validity(password):\n",
        "    # Define the regular expression pattern for password validation\n",
        "    pattern = r\"^(?=.*[a-z])(?=.*[A-Z])(?=.*\\d)(?=.*[@$])[A-Za-z\\d@$]{6,16}$\"\n",
        "\n",
        "    # Use the re.match() function to check if the password matches the pattern\n",
        "    if re.match(pattern, password):\n",
        "        return \"Valid password!\"\n",
        "    else:\n",
        "        return \"Invalid password. Please make sure your password meets the required criteria.\"\n",
        "#Example usage\n",
        "input_password = \"Pass@123\"\n",
        "result = check_password_validity(input_password)\n",
        "print(result)\n"
      ],
      "metadata": {
        "colab": {
          "base_uri": "https://localhost:8080/"
        },
        "id": "I9EWHTdCI5_g",
        "outputId": "ea09509a-d953-48d5-8699-8bfbaaa84624"
      },
      "execution_count": null,
      "outputs": [
        {
          "output_type": "stream",
          "name": "stdout",
          "text": [
            "Valid password!\n"
          ]
        }
      ]
    },
    {
      "cell_type": "code",
      "source": [
        "#9) Write a program in Python to reverse a word by using while loop"
      ],
      "metadata": {
        "id": "KDVfzmeXJZ6k"
      },
      "execution_count": null,
      "outputs": []
    },
    {
      "cell_type": "code",
      "source": [
        "word=input(\"Enter a word\")\n",
        "reversed_word=\"\"\n",
        "index=len(word)-1\n",
        "while index>0:\n",
        "  reversed_word+=word[index]\n",
        "  index-=1\n",
        "print(\"Reversed word:\",reversed_word)"
      ],
      "metadata": {
        "colab": {
          "base_uri": "https://localhost:8080/"
        },
        "id": "Hgk0Gy2JJkpp",
        "outputId": "37b0ab92-8ab5-4d44-96cd-efab1fde8135"
      },
      "execution_count": null,
      "outputs": [
        {
          "output_type": "stream",
          "name": "stdout",
          "text": [
            "Enter a word ram\n",
            "Reversed word: mar\n"
          ]
        }
      ]
    },
    {
      "cell_type": "code",
      "source": [
        "# 10 Write a program which takes 10 integers as input using loop and print their average value on the screen"
      ],
      "metadata": {
        "id": "NVQ1TK0dLaJ8"
      },
      "execution_count": null,
      "outputs": []
    },
    {
      "cell_type": "code",
      "source": [
        "sum=0\n",
        "for i in range(10):\n",
        "  num=int(input(\"Enter an integer\"))\n",
        "  sum+=num\n",
        "average=sum/10\n",
        "print(\"The average value is\",average)"
      ],
      "metadata": {
        "colab": {
          "base_uri": "https://localhost:8080/"
        },
        "id": "nQOFY9dwL5VV",
        "outputId": "5263efe1-9efa-4349-892e-445ae89b71fd"
      },
      "execution_count": null,
      "outputs": [
        {
          "output_type": "stream",
          "name": "stdout",
          "text": [
            "Enter an integer25\n",
            "Enter an integer7\n",
            "Enter an integer45\n",
            "Enter an integer50\n",
            "Enter an integer39\n",
            "Enter an integer56\n",
            "Enter an integer40\n",
            "Enter an integer25\n",
            "Enter an integer22\n",
            "Enter an integer27\n",
            "The average value is 33.6\n"
          ]
        }
      ]
    },
    {
      "cell_type": "code",
      "source": [
        "#Write a program which takes integer inputs from user until he/she presses “q” (Ask to press q to quit after every integer\n",
        "#input). Print average and product of all numbers.\n"
      ],
      "metadata": {
        "id": "KS9lCBR9NFV1"
      },
      "execution_count": null,
      "outputs": []
    },
    {
      "cell_type": "code",
      "source": [
        "numbers=[]\n",
        "product=1\n",
        "count=0\n",
        "while True:\n",
        "   num=input(\"Enter an integer(or'q'to quit\")\n",
        "   if num=='q':\n",
        "      break\n",
        "\n",
        "   try:\n",
        "      num = int(num)\n",
        "      numbers.append(num)\n",
        "      product*=num\n",
        "   except ValueError:\n",
        "      print(\"Invalid input.Please enter an integer\")\n",
        "\n",
        "if len(numbers)==0:\n",
        "      print(\"No numbers entered\")\n",
        "else:\n",
        "      average=sum(numbers)/len(numbers)\n",
        "      print(\"Average:\",average)\n",
        "      print(\"product:\",average)\n",
        "\n"
      ],
      "metadata": {
        "colab": {
          "base_uri": "https://localhost:8080/",
          "height": 616
        },
        "id": "WFM1P0k-Uq2N",
        "outputId": "12e06d34-86de-4f90-bda9-981e273c9dd1"
      },
      "execution_count": null,
      "outputs": [
        {
          "output_type": "stream",
          "name": "stdout",
          "text": [
            "Enter an integer(or'q'to quit 25\n",
            "Enter an integer(or'q'to quit 45\n",
            "Enter an integer(or'q'to quit35\n",
            "Enter an integer(or'q'to quit49\n",
            "Enter an integer(or'q'to quit q\n",
            "Invalid input.Please enter an integer\n",
            "Enter an integer(or'q'to quit 24\n",
            "Enter an integer(or'q'to quit 35\n",
            "Enter an integer(or'q'to quit 45\n",
            "Enter an integer(or'q'to quit  50\n",
            "Enter an integer(or'q'to quit   q\n",
            "Invalid input.Please enter an integer\n"
          ]
        },
        {
          "output_type": "error",
          "ename": "KeyboardInterrupt",
          "evalue": "ignored",
          "traceback": [
            "\u001b[0;31m---------------------------------------------------------------------------\u001b[0m",
            "\u001b[0;31mKeyboardInterrupt\u001b[0m                         Traceback (most recent call last)",
            "\u001b[0;32m<ipython-input-2-a97ecf9d8594>\u001b[0m in \u001b[0;36m<cell line: 4>\u001b[0;34m()\u001b[0m\n\u001b[1;32m      3\u001b[0m \u001b[0mcount\u001b[0m\u001b[0;34m=\u001b[0m\u001b[0;36m0\u001b[0m\u001b[0;34m\u001b[0m\u001b[0;34m\u001b[0m\u001b[0m\n\u001b[1;32m      4\u001b[0m \u001b[0;32mwhile\u001b[0m \u001b[0;32mTrue\u001b[0m\u001b[0;34m:\u001b[0m\u001b[0;34m\u001b[0m\u001b[0;34m\u001b[0m\u001b[0m\n\u001b[0;32m----> 5\u001b[0;31m    \u001b[0mnum\u001b[0m\u001b[0;34m=\u001b[0m\u001b[0minput\u001b[0m\u001b[0;34m(\u001b[0m\u001b[0;34m\"Enter an integer(or'q'to quit\"\u001b[0m\u001b[0;34m)\u001b[0m\u001b[0;34m\u001b[0m\u001b[0;34m\u001b[0m\u001b[0m\n\u001b[0m\u001b[1;32m      6\u001b[0m    \u001b[0;32mif\u001b[0m \u001b[0mnum\u001b[0m\u001b[0;34m==\u001b[0m\u001b[0;34m'q'\u001b[0m\u001b[0;34m:\u001b[0m\u001b[0;34m\u001b[0m\u001b[0;34m\u001b[0m\u001b[0m\n\u001b[1;32m      7\u001b[0m       \u001b[0;32mbreak\u001b[0m\u001b[0;34m\u001b[0m\u001b[0;34m\u001b[0m\u001b[0m\n",
            "\u001b[0;32m/usr/local/lib/python3.10/dist-packages/ipykernel/kernelbase.py\u001b[0m in \u001b[0;36mraw_input\u001b[0;34m(self, prompt)\u001b[0m\n\u001b[1;32m    849\u001b[0m                 \u001b[0;34m\"raw_input was called, but this frontend does not support input requests.\"\u001b[0m\u001b[0;34m\u001b[0m\u001b[0;34m\u001b[0m\u001b[0m\n\u001b[1;32m    850\u001b[0m             )\n\u001b[0;32m--> 851\u001b[0;31m         return self._input_request(str(prompt),\n\u001b[0m\u001b[1;32m    852\u001b[0m             \u001b[0mself\u001b[0m\u001b[0;34m.\u001b[0m\u001b[0m_parent_ident\u001b[0m\u001b[0;34m,\u001b[0m\u001b[0;34m\u001b[0m\u001b[0;34m\u001b[0m\u001b[0m\n\u001b[1;32m    853\u001b[0m             \u001b[0mself\u001b[0m\u001b[0;34m.\u001b[0m\u001b[0m_parent_header\u001b[0m\u001b[0;34m,\u001b[0m\u001b[0;34m\u001b[0m\u001b[0;34m\u001b[0m\u001b[0m\n",
            "\u001b[0;32m/usr/local/lib/python3.10/dist-packages/ipykernel/kernelbase.py\u001b[0m in \u001b[0;36m_input_request\u001b[0;34m(self, prompt, ident, parent, password)\u001b[0m\n\u001b[1;32m    893\u001b[0m             \u001b[0;32mexcept\u001b[0m \u001b[0mKeyboardInterrupt\u001b[0m\u001b[0;34m:\u001b[0m\u001b[0;34m\u001b[0m\u001b[0;34m\u001b[0m\u001b[0m\n\u001b[1;32m    894\u001b[0m                 \u001b[0;31m# re-raise KeyboardInterrupt, to truncate traceback\u001b[0m\u001b[0;34m\u001b[0m\u001b[0;34m\u001b[0m\u001b[0m\n\u001b[0;32m--> 895\u001b[0;31m                 \u001b[0;32mraise\u001b[0m \u001b[0mKeyboardInterrupt\u001b[0m\u001b[0;34m(\u001b[0m\u001b[0;34m\"Interrupted by user\"\u001b[0m\u001b[0;34m)\u001b[0m \u001b[0;32mfrom\u001b[0m \u001b[0;32mNone\u001b[0m\u001b[0;34m\u001b[0m\u001b[0;34m\u001b[0m\u001b[0m\n\u001b[0m\u001b[1;32m    896\u001b[0m             \u001b[0;32mexcept\u001b[0m \u001b[0mException\u001b[0m \u001b[0;32mas\u001b[0m \u001b[0me\u001b[0m\u001b[0;34m:\u001b[0m\u001b[0;34m\u001b[0m\u001b[0;34m\u001b[0m\u001b[0m\n\u001b[1;32m    897\u001b[0m                 \u001b[0mself\u001b[0m\u001b[0;34m.\u001b[0m\u001b[0mlog\u001b[0m\u001b[0;34m.\u001b[0m\u001b[0mwarning\u001b[0m\u001b[0;34m(\u001b[0m\u001b[0;34m\"Invalid Message:\"\u001b[0m\u001b[0;34m,\u001b[0m \u001b[0mexc_info\u001b[0m\u001b[0;34m=\u001b[0m\u001b[0;32mTrue\u001b[0m\u001b[0;34m)\u001b[0m\u001b[0;34m\u001b[0m\u001b[0;34m\u001b[0m\u001b[0m\n",
            "\u001b[0;31mKeyboardInterrupt\u001b[0m: Interrupted by user"
          ]
        }
      ]
    },
    {
      "cell_type": "code",
      "source": [
        "#Write a Python program which will remove all digits or any other characters from the string except alphabets\n",
        "#Example:\n",
        "#Input:\n",
        "#“asd12.asd22”\n",
        "# 'asdasd'\n",
        "\n"
      ],
      "metadata": {
        "id": "1tYcvgqXUxxp"
      },
      "execution_count": null,
      "outputs": []
    },
    {
      "cell_type": "code",
      "source": [
        "def remove_non_alphabets(strings):\n",
        "   result=''\n",
        "   for char in string:\n",
        "     if char.isalpha():\n",
        "        result+=char\n",
        "     return result\n",
        "print()"
      ],
      "metadata": {
        "colab": {
          "base_uri": "https://localhost:8080/"
        },
        "id": "qAYCPcuRWSQI",
        "outputId": "883b8d7c-2b1a-4367-9d65-9f7ab18d04b8"
      },
      "execution_count": null,
      "outputs": [
        {
          "output_type": "stream",
          "name": "stdout",
          "text": [
            "\n"
          ]
        }
      ]
    },
    {
      "cell_type": "code",
      "source": [
        "input_string=\"asd12.asd22\"\n",
        "print()"
      ],
      "metadata": {
        "colab": {
          "base_uri": "https://localhost:8080/"
        },
        "id": "8aB3CpbsXj5r",
        "outputId": "45fdfe6e-5b85-4579-c289-2f7a3b350f97"
      },
      "execution_count": null,
      "outputs": [
        {
          "output_type": "stream",
          "name": "stdout",
          "text": [
            "\n"
          ]
        }
      ]
    },
    {
      "cell_type": "code",
      "source": [
        "#Write a python program to find the sum of all even numbers from 0 to 10"
      ],
      "metadata": {
        "id": "QTBR90cCYq5H"
      },
      "execution_count": null,
      "outputs": []
    },
    {
      "cell_type": "code",
      "source": [
        "upper_limit=int(input(\"Enter the upper limit:\"))\n",
        "sum_of_evens=0\n",
        "for num in range(0,upper_limit+1,2):\n",
        "  sum_of_evens+=num\n",
        "print(\"the sum of all even number from 0 to\",upper_limit,\"is\",sum_of_evens)\n",
        "\n",
        "\n",
        "\n",
        "\n",
        "\n",
        "\n",
        "\n"
      ],
      "metadata": {
        "colab": {
          "base_uri": "https://localhost:8080/"
        },
        "id": "UucyZUEOZDH6",
        "outputId": "04f6dec9-73e3-4b1b-aa74-88701e899f23"
      },
      "execution_count": null,
      "outputs": [
        {
          "output_type": "stream",
          "name": "stdout",
          "text": [
            "Enter the upper limit:4\n",
            "the sum of all even number from 0 to 4 is 6\n"
          ]
        }
      ]
    },
    {
      "cell_type": "code",
      "source": [
        "#Write a python program which will accept a digit and print All the numbers before it till 0\n",
        "#Example:\n",
        "#Input:\n",
        "#5\n",
        "Output:\n",
        "#4\n",
        "#3\n",
        "#2\n",
        "#1\n",
        "#0\n",
        "\n",
        "\n"
      ],
      "metadata": {
        "id": "W3gMS1CveOKv"
      },
      "execution_count": null,
      "outputs": []
    },
    {
      "cell_type": "code",
      "source": [
        "digit=int(input(\"Enter a digit:\"))\n",
        "for num in range(digit -1,-1,-1):\n",
        "  print(num)\n",
        "print()"
      ],
      "metadata": {
        "colab": {
          "base_uri": "https://localhost:8080/"
        },
        "id": "x4f_8W_keN0R",
        "outputId": "03b7895d-67ef-4e5a-a718-6570c7a5a69a"
      },
      "execution_count": null,
      "outputs": [
        {
          "output_type": "stream",
          "name": "stdout",
          "text": [
            "Enter a digit: 5\n",
            "4\n",
            "3\n",
            "2\n",
            "1\n",
            "0\n",
            "\n"
          ]
        }
      ]
    },
    {
      "cell_type": "code",
      "source": [
        "#Create a dynamic calculator which will run continually till you press “c"
      ],
      "metadata": {
        "id": "xNXNyzzDgAnI"
      },
      "execution_count": null,
      "outputs": []
    },
    {
      "cell_type": "code",
      "source": [
        "while True:\n",
        "    x = input(\"enter any number: \")\n",
        "    if x==\"c\":\n",
        "        break\n",
        "    else:\n",
        "        y=int(x)\n",
        "        operation=input(\"enter any symbol +, -, , /, %, *, // : \")\n",
        "        z = int(input(\"enter any number: \"))\n",
        "    if operation == \"+\":\n",
        "        print(\"{}+{}={}\".format(y, z, y+z))\n",
        "    elif operation ==\"-\":\n",
        "        print(\"{}-{}={}\".format(y, z, y-z))\n",
        "    elif operation == \"*\":\n",
        "        print(\"{}*{}={}\".format(y, z, y*z))\n",
        "    elif operation ==\"/\":\n",
        "        print(\"{}/{}={}\".format(y, z, int(y/z)))\n",
        "    elif operation == \"%\":\n",
        "        print(\"{}%{}={}\".format(y, z, int(y%z)))\n",
        "    elif operation == \"**\":\n",
        "        print(\"{}*{}={}\".format(y, z, int(y*z)))\n",
        "    elif operation == \"//\":\n",
        "        print(\"{}//{}={}\".format(y, z, int(y//z)))\n",
        "    else:\n",
        "        print(\"enter correct operation\")"
      ],
      "metadata": {
        "colab": {
          "base_uri": "https://localhost:8080/"
        },
        "id": "ubstAkaufgO4",
        "outputId": "d97092d3-3a65-46a6-82ea-8e6c905635ff"
      },
      "execution_count": 2,
      "outputs": [
        {
          "name": "stdout",
          "output_type": "stream",
          "text": [
            "enter any number: 45\n",
            "enter any symbol +, -, , /, %, *, // : +\n",
            "enter any number: 89\n",
            "45+89=134\n",
            "enter any number: 56\n",
            "enter any symbol +, -, , /, %, *, // : /\n",
            "enter any number: 3\n",
            "56/3=18\n",
            "enter any number: 65\n",
            "enter any symbol +, -, , /, %, *, // : -\n",
            "enter any number: 30\n",
            "65-30=35\n",
            "enter any number: 55\n",
            "enter any symbol +, -, , /, %, *, // : *\n",
            "enter any number: 20\n",
            "55*20=1100\n",
            "enter any number: 3\n",
            "enter any symbol +, -, , /, %, *, // : %\n",
            "enter any number: 2\n",
            "3%2=1\n",
            "enter any number: 54\n",
            "enter any symbol +, -, , /, %, *, // : //\n",
            "enter any number: 30\n",
            "54//30=1\n",
            "enter any number: c\n"
          ]
        }
      ]
    }
  ]
}