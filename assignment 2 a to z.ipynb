{
 "cells": [
  {
   "cell_type": "code",
   "execution_count": 1,
   "id": "b08bb09d",
   "metadata": {},
   "outputs": [
    {
     "name": "stdout",
     "output_type": "stream",
     "text": [
      " * * \n",
      "*   *\n",
      "*   *\n",
      "*   *\n",
      " * * *\n"
     ]
    }
   ],
   "source": [
    "x=1\n",
    "while(x<=5):\n",
    "    if(x==2) or (x==3) or (x==4):\n",
    "        print(\"*   *\")\n",
    "    elif(x==1):\n",
    "        print(\" * * \")\n",
    "    else:\n",
    "        print(\" * * *\")\n",
    "    x=x+1"
   ]
  },
  {
   "cell_type": "code",
   "execution_count": 30,
   "id": "987f3c82",
   "metadata": {},
   "outputs": [
    {
     "name": "stdout",
     "output_type": "stream",
     "text": [
      "*\n",
      "*\n",
      "*\n",
      "* * *\n",
      "*   *\n",
      "* * *\n"
     ]
    }
   ],
   "source": [
    "x=1\n",
    "while(x<=6):\n",
    "    if(x==1) or (x==2) or (x==3):\n",
    "        print(\"*\")\n",
    "    elif(x==4) or (x==6):\n",
    "        print(\"* * *\")\n",
    "    else:\n",
    "        print(\"*   *\")\n",
    "    x=x+1"
   ]
  },
  {
   "cell_type": "code",
   "execution_count": 31,
   "id": "3a1b372e",
   "metadata": {},
   "outputs": [
    {
     "name": "stdout",
     "output_type": "stream",
     "text": [
      " ****\n",
      "*    \n",
      "*    \n",
      "*    \n",
      " ****\n"
     ]
    }
   ],
   "source": [
    "x=1\n",
    "while(x<=5):\n",
    "    if(x==1) or (x==5):\n",
    "        print(\" ****\")\n",
    "    else:\n",
    "        print(\"*    \")\n",
    "    x=x+1"
   ]
  },
  {
   "cell_type": "code",
   "execution_count": 32,
   "id": "99c62c31",
   "metadata": {},
   "outputs": [
    {
     "name": "stdout",
     "output_type": "stream",
     "text": [
      "    *\n",
      "    *\n",
      "    *\n",
      "* * *\n",
      "*   *\n",
      "* * *\n"
     ]
    }
   ],
   "source": [
    "x=1\n",
    "while(x<=6):\n",
    "    if(x==1) or (x==2) or (x==3):\n",
    "        print(\"    *\")\n",
    "    elif(x==4) or (x==6):\n",
    "        print(\"* * *\")\n",
    "    else:\n",
    "        print(\"*   *\")\n",
    "    x=x+1"
   ]
  },
  {
   "cell_type": "code",
   "execution_count": 33,
   "id": "86232adc",
   "metadata": {},
   "outputs": [
    {
     "name": "stdout",
     "output_type": "stream",
     "text": [
      " ***\n",
      "*   *\n",
      "* ***\n",
      "*\n",
      " ****\n"
     ]
    }
   ],
   "source": [
    "x=1\n",
    "while(x<=5):\n",
    "    if(x==1):\n",
    "        print(\" ***\")\n",
    "    elif(x==2):\n",
    "        print(\"*   *\")\n",
    "    elif(x==3):\n",
    "        print(\"* ***\")\n",
    "    elif(x==4):\n",
    "        print(\"*\")\n",
    "    else:\n",
    "        print(\" ****\")\n",
    "    x=x+1"
   ]
  },
  {
   "cell_type": "code",
   "execution_count": 34,
   "id": "ccc2fafe",
   "metadata": {},
   "outputs": [
    {
     "name": "stdout",
     "output_type": "stream",
     "text": [
      "  ***\n",
      "  * *\n",
      "  *\n",
      "*****\n",
      "  *\n",
      "  *\n"
     ]
    }
   ],
   "source": [
    "x=1\n",
    "while(x<=6):\n",
    "    if(x==1):\n",
    "        print(\"  ***\")\n",
    "    elif(x==2):\n",
    "        print(\"  * *\")\n",
    "    elif(x==4):\n",
    "        print(\"*****\")\n",
    "    else:\n",
    "        print(\"  *\")\n",
    "    x=x+1"
   ]
  },
  {
   "cell_type": "code",
   "execution_count": 35,
   "id": "11a33d71",
   "metadata": {},
   "outputs": [
    {
     "name": "stdout",
     "output_type": "stream",
     "text": [
      "* * *\n",
      "*   *  *\n",
      "* * * *\n",
      "    *\n",
      " *  *\n",
      "*   *\n",
      "* * *\n"
     ]
    }
   ],
   "source": [
    "x=1\n",
    "while(x<=7):\n",
    "    if(x==1) or (x==7):\n",
    "        print(\"* * *\")\n",
    "    elif (x==6):\n",
    "        print(\"*   *\")\n",
    "    elif (x==2):\n",
    "        print(\"*   *  *\")\n",
    "    elif(x==3):\n",
    "        print(\"* * * *\")\n",
    "    elif(x==4):\n",
    "        print(\"    *\")\n",
    "    else:\n",
    "        print(\" *  *\")\n",
    "    x=x+1"
   ]
  },
  {
   "cell_type": "code",
   "execution_count": 37,
   "id": "d14f2463",
   "metadata": {},
   "outputs": [
    {
     "name": "stdout",
     "output_type": "stream",
     "text": [
      "*\n",
      "*\n",
      "*\n",
      "* * *\n",
      "*   *\n",
      "*   *\n"
     ]
    }
   ],
   "source": [
    "x=1\n",
    "while(x<=6):\n",
    "    if(x==1) or (x==2) or (x==3):\n",
    "        print(\"*\")\n",
    "    elif(x==4) :\n",
    "        print(\"* * *\")\n",
    "    else:\n",
    "        print(\"*   *\")\n",
    "    x=x+1\n"
   ]
  },
  {
   "cell_type": "code",
   "execution_count": 1,
   "id": "a125fa3c",
   "metadata": {},
   "outputs": [
    {
     "name": "stdout",
     "output_type": "stream",
     "text": [
      "*\n",
      " \n",
      "*\n",
      "*\n",
      "*\n"
     ]
    }
   ],
   "source": [
    "x=1\n",
    "while(x<=5):\n",
    "    if(x==2):\n",
    "        print(\" \")\n",
    "    else:\n",
    "        print(\"*\")\n",
    "    x=x+1"
   ]
  },
  {
   "cell_type": "code",
   "execution_count": 10,
   "id": "3afcee92",
   "metadata": {},
   "outputs": [
    {
     "name": "stdout",
     "output_type": "stream",
     "text": [
      "  *  \n",
      "  *  \n",
      "  *  \n",
      "* *\n",
      "***\n"
     ]
    }
   ],
   "source": [
    "x=1\n",
    "while(x<=5):\n",
    "    if(x==1) or (x==2) or (x==3):\n",
    "        print(\"  *  \")\n",
    "    elif(x==4):\n",
    "        print(\"* *\")\n",
    "    else:\n",
    "        print(\"***\")\n",
    "    x=x+1\n",
    "        "
   ]
  },
  {
   "cell_type": "code",
   "execution_count": 14,
   "id": "e63a14a7",
   "metadata": {},
   "outputs": [
    {
     "name": "stdout",
     "output_type": "stream",
     "text": [
      "*\n",
      "*\n",
      "*   *\n",
      "* *\n",
      "*\n",
      "* *\n",
      "*   *\n"
     ]
    }
   ],
   "source": [
    "x=1\n",
    "while(x<=7):\n",
    "    if(x==3) or (x==7):\n",
    "        print(\"*   *\")\n",
    "    elif(x==4) or (x==6):\n",
    "        print(\"* *\")\n",
    "    else:\n",
    "        print(\"*\")\n",
    "    x=x+1"
   ]
  },
  {
   "cell_type": "code",
   "execution_count": 18,
   "id": "368584cb",
   "metadata": {},
   "outputs": [
    {
     "name": "stdout",
     "output_type": "stream",
     "text": [
      "*\n",
      "*\n",
      "*\n",
      "***\n",
      "\n"
     ]
    }
   ],
   "source": [
    "x=1\n",
    "while(x<=5):\n",
    "    if(x==1) or (x==2) or (x==3):\n",
    "          print(\"*\")\n",
    "    elif(x==4):\n",
    "        print(\"***\")\n",
    "    else:\n",
    "        print(\"\")\n",
    "    x=x+1"
   ]
  },
  {
   "cell_type": "code",
   "execution_count": 24,
   "id": "4dc9fe3c",
   "metadata": {},
   "outputs": [
    {
     "name": "stdout",
     "output_type": "stream",
     "text": [
      "*  *   * \n",
      " *   *   *\n",
      " *   *   *\n",
      " *   *   *\n",
      " *   *   *\n"
     ]
    }
   ],
   "source": [
    "x=1\n",
    "while(x<=5):\n",
    "    if(x==1):\n",
    "         print(\"*  *   * \")\n",
    "    else:\n",
    "        print(\" *   *   *\")\n",
    "    x=x+1"
   ]
  },
  {
   "cell_type": "code",
   "execution_count": 4,
   "id": "a18da52b",
   "metadata": {},
   "outputs": [
    {
     "name": "stdout",
     "output_type": "stream",
     "text": [
      "*  * * \n",
      " *    *\n",
      " *    *\n",
      " *    *\n",
      " *    *\n"
     ]
    }
   ],
   "source": [
    "x=1\n",
    "while(x<=5):\n",
    "    if(x==1):\n",
    "        print(\"*  * * \")\n",
    "    else:\n",
    "        print(\" *    *\")\n",
    "    x=x+1"
   ]
  },
  {
   "cell_type": "code",
   "execution_count": 11,
   "id": "26dfff17",
   "metadata": {},
   "outputs": [
    {
     "name": "stdout",
     "output_type": "stream",
     "text": [
      " ***\n",
      "*   *\n",
      "*   *\n",
      "*   *\n",
      " ***\n"
     ]
    }
   ],
   "source": [
    "x=1\n",
    "while(x<=5):\n",
    "    if(x==1) or (x==5):\n",
    "      print(\" ***\")\n",
    "    else:\n",
    "      print(\"*   *\")\n",
    "    x=x+1\n",
    "      "
   ]
  },
  {
   "cell_type": "code",
   "execution_count": 14,
   "id": "f1bc2aa4",
   "metadata": {},
   "outputs": [
    {
     "name": "stdout",
     "output_type": "stream",
     "text": [
      "****\n",
      "*   *\n",
      "*   *\n",
      "****\n",
      "*\n"
     ]
    }
   ],
   "source": [
    "x=1\n",
    "while(x<=5):\n",
    "    if(x==1) or(x==4):\n",
    "        print(\"****\")\n",
    "    elif(x==2) or (x==3):\n",
    "        print(\"*   *\")\n",
    "    else:\n",
    "        print(\"*\")\n",
    "    x=x+1"
   ]
  },
  {
   "cell_type": "code",
   "execution_count": 26,
   "id": "36e9e5d3",
   "metadata": {},
   "outputs": [
    {
     "name": "stdout",
     "output_type": "stream",
     "text": [
      " ****\n",
      "*   *\n",
      "*   *\n",
      " ****\n",
      "    *  *\n",
      "    * *\n",
      "    *\n"
     ]
    }
   ],
   "source": [
    "x=1\n",
    "while(x<=7):\n",
    "    if(x==1) or (x==4):\n",
    "        print(\" ****\")\n",
    "    elif(x==2)or (x==3) :\n",
    "        print(\"*   *\")\n",
    "    elif (x==5):\n",
    "        print(\"    *  *\")\n",
    "    elif (x==6):\n",
    "        print(\"    * *\")\n",
    "    else:\n",
    "        print(\"    *\")\n",
    "    x=x+1"
   ]
  },
  {
   "cell_type": "code",
   "execution_count": 27,
   "id": "03c74eb9",
   "metadata": {},
   "outputs": [
    {
     "name": "stdout",
     "output_type": "stream",
     "text": [
      "*   *\n",
      "*  *\n",
      "* *\n",
      "*\n",
      "*\n",
      "*\n"
     ]
    }
   ],
   "source": [
    "x=1\n",
    "while(x<=6):\n",
    "    if(x==1):\n",
    "        print(\"*   *\")\n",
    "    elif(x==2):\n",
    "        print(\"*  *\")\n",
    "    elif(x==3):\n",
    "        print(\"* *\")\n",
    "    else:\n",
    "        print(\"*\")\n",
    "    x=x+1"
   ]
  },
  {
   "cell_type": "code",
   "execution_count": 28,
   "id": "e9516eea",
   "metadata": {},
   "outputs": [
    {
     "name": "stdout",
     "output_type": "stream",
     "text": [
      " **** \n",
      "* \n",
      " **** \n",
      "     * \n",
      " **** \n"
     ]
    }
   ],
   "source": [
    "x=1\n",
    "while(x<=5):\n",
    "    if(x==1) or (x==5) or (x==3):\n",
    "        print(\" **** \")\n",
    "    elif(x==4):\n",
    "        print(\"     * \")\n",
    "    else:\n",
    "        print(\"* \")\n",
    "    x=x+1"
   ]
  },
  {
   "cell_type": "code",
   "execution_count": 33,
   "id": "771413f9",
   "metadata": {},
   "outputs": [
    {
     "name": "stdout",
     "output_type": "stream",
     "text": [
      "  *\n",
      "  *\n",
      "*****\n",
      "  *\n",
      "  ***\n"
     ]
    }
   ],
   "source": [
    "x=1\n",
    "while(x<=5):\n",
    "    if(x==5):\n",
    "        print(\"  ***\")\n",
    "    elif(x==3):\n",
    "        print(\"*****\")\n",
    "    else:\n",
    "        print(\"  *\")\n",
    "    x=x+1"
   ]
  },
  {
   "cell_type": "code",
   "execution_count": 34,
   "id": "55351d7b",
   "metadata": {},
   "outputs": [
    {
     "name": "stdout",
     "output_type": "stream",
     "text": [
      "*   *\n",
      "*   *\n",
      "*   *\n",
      "*   *\n",
      " *** *\n"
     ]
    }
   ],
   "source": [
    "x=1\n",
    "while(x<=5):\n",
    "    if (x==5) :\n",
    "        print(\" *** *\")\n",
    "    else:\n",
    "        print(\"*   *\")\n",
    "    x=x+1"
   ]
  },
  {
   "cell_type": "code",
   "execution_count": 35,
   "id": "387b804c",
   "metadata": {},
   "outputs": [
    {
     "name": "stdout",
     "output_type": "stream",
     "text": [
      "*       *\n",
      " *     * \n",
      "  *   * \n",
      "   * * \n",
      "    *\n"
     ]
    }
   ],
   "source": [
    "x=1\n",
    "while(x<=5):\n",
    "    if (x==1) :\n",
    "        print(\"*       *\")\n",
    "    elif(x==2):\n",
    "        print(\" *     * \")\n",
    "    elif(x==3):\n",
    "        print(\"  *   * \")\n",
    "    elif(x==4):\n",
    "        print(\"   * * \")\n",
    "    else:\n",
    "        print(\"    *\")\n",
    "    x=x+1"
   ]
  },
  {
   "cell_type": "code",
   "execution_count": 36,
   "id": "5f0b25cb",
   "metadata": {},
   "outputs": [
    {
     "name": "stdout",
     "output_type": "stream",
     "text": [
      "*   *   *\n",
      "*   *   *\n",
      "*   *   *\n",
      "*   *   *\n",
      "  *   *  *\n"
     ]
    }
   ],
   "source": [
    "x=1\n",
    "while (x<=5):\n",
    "    if(x==5):\n",
    "        print(\"  *   *  *\")\n",
    "    else:\n",
    "        print(\"*   *   *\")\n",
    "    x=x+1"
   ]
  },
  {
   "cell_type": "code",
   "execution_count": 37,
   "id": "9387874f",
   "metadata": {},
   "outputs": [
    {
     "name": "stdout",
     "output_type": "stream",
     "text": [
      "*   *\n",
      " * * \n",
      "  *\n",
      " * * \n",
      "*   *\n"
     ]
    }
   ],
   "source": [
    "x=1\n",
    "while(x<=5):\n",
    "    if(x==1) or (x==5):\n",
    "        print(\"*   *\")\n",
    "    elif(x==2) or (x==4):\n",
    "        print(\" * * \")\n",
    "    else:\n",
    "        print(\"  *\")\n",
    "    x=x+1"
   ]
  },
  {
   "cell_type": "code",
   "execution_count": 38,
   "id": "a8028454",
   "metadata": {},
   "outputs": [
    {
     "name": "stdout",
     "output_type": "stream",
     "text": [
      "*   *\n",
      "*   *  *\n",
      "* * * *\n",
      "    *\n",
      " *  *\n",
      "*   *\n",
      "* * *\n"
     ]
    }
   ],
   "source": [
    "x=1\n",
    "while(x<=7):\n",
    "    if(x==1) :\n",
    "        print(\"*   *\")\n",
    "    elif (x==6):\n",
    "        print(\"*   *\")\n",
    "    elif (x==2):\n",
    "        print(\"*   *  *\")\n",
    "    elif(x==3):\n",
    "        print(\"* * * *\")\n",
    "    elif(x==4):\n",
    "        print(\"    *\")\n",
    "    elif(x==7):\n",
    "        print(\"* * *\")\n",
    "    else:\n",
    "        print(\" *  *\")\n",
    "    x=x+1"
   ]
  },
  {
   "cell_type": "code",
   "execution_count": 39,
   "id": "f1e1ab64",
   "metadata": {},
   "outputs": [
    {
     "name": "stdout",
     "output_type": "stream",
     "text": [
      "*****\n",
      "   * \n",
      "  *\n",
      " *\n",
      "*****\n"
     ]
    }
   ],
   "source": [
    "x=1\n",
    "while(x<=5):\n",
    "    if(x==1) or (x==5) :\n",
    "        print(\"*****\")\n",
    "    elif(x==2) :\n",
    "        print(\"   * \")\n",
    "    elif(x==3):\n",
    "        print(\"  *\")\n",
    "    else:\n",
    "        print(\" *\")\n",
    "    x=x+1"
   ]
  },
  {
   "cell_type": "code",
   "execution_count": null,
   "id": "9e7fac2f",
   "metadata": {},
   "outputs": [],
   "source": []
  }
 ],
 "metadata": {
  "kernelspec": {
   "display_name": "Python 3 (ipykernel)",
   "language": "python",
   "name": "python3"
  },
  "language_info": {
   "codemirror_mode": {
    "name": "ipython",
    "version": 3
   },
   "file_extension": ".py",
   "mimetype": "text/x-python",
   "name": "python",
   "nbconvert_exporter": "python",
   "pygments_lexer": "ipython3",
   "version": "3.9.12"
  }
 },
 "nbformat": 4,
 "nbformat_minor": 5
}
