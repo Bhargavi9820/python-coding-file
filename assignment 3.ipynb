{
 "cells": [
  {
   "cell_type": "code",
   "execution_count": null,
   "id": "e6c64f27",
   "metadata": {},
   "outputs": [],
   "source": [
    "#create a python program to print lower case aplhabets(a_z) with conditional statement\n"
   ]
  },
  {
   "cell_type": "code",
   "execution_count": 18,
   "id": "b93384ae",
   "metadata": {},
   "outputs": [
    {
     "name": "stdout",
     "output_type": "stream",
     "text": [
      "a\n",
      "b\n",
      "c\n",
      "d\n",
      "e\n",
      "f\n",
      "g\n",
      "h\n",
      "i\n",
      "j\n",
      "k\n",
      "l\n",
      "m\n",
      "n\n",
      "o\n",
      "p\n",
      "q\n",
      "r\n",
      "s\n",
      "t\n",
      "u\n",
      "v\n",
      "w\n",
      "x\n",
      "y\n",
      "z\n"
     ]
    }
   ],
   "source": [
    "x=\"a\"\n",
    "while x<=\"z\":\n",
    "    if x>=\"a\" and x<=\"z\":\n",
    "        print(x)\n",
    "    x=chr(ord(x)+1)"
   ]
  },
  {
   "cell_type": "code",
   "execution_count": null,
   "id": "124c796d",
   "metadata": {},
   "outputs": [],
   "source": [
    "#create a python program to print lower & upper case alpabets with looping concepts(while loop and for and for loop)"
   ]
  },
  {
   "cell_type": "code",
   "execution_count": 2,
   "id": "ab107308",
   "metadata": {},
   "outputs": [
    {
     "name": "stdout",
     "output_type": "stream",
     "text": [
      "a b c d e f g h i j k l m n o p q r s t u v w x y z \n",
      "A B C D E F G H I J K L M N O P Q R S T U V W X Y Z "
     ]
    }
   ],
   "source": [
    "x=97\n",
    "while x<=122:\n",
    "    print(chr(x),end=\" \")\n",
    "    x=x+1\n",
    "print()\n",
    "y=65\n",
    "while y>=65 and y<=90:\n",
    "    print(chr(y),end=\" \")\n",
    "    y=y+1"
   ]
  },
  {
   "cell_type": "code",
   "execution_count": 3,
   "id": "c8f6c5e2",
   "metadata": {},
   "outputs": [
    {
     "name": "stdout",
     "output_type": "stream",
     "text": [
      "a b c d e f g h i j k l m n o p q r s t u v w x y z \n",
      "A B C D E F G H I J K L M N O P Q R S T U V W X Y Z "
     ]
    }
   ],
   "source": [
    "# for loop  program\n",
    "for i in range(97,123):\n",
    "    print(chr(i),end=\" \")\n",
    "print()\n",
    "\n",
    "for i in range(65,91):\n",
    "    print(chr(i),end=\" \")"
   ]
  },
  {
   "cell_type": "code",
   "execution_count": null,
   "id": "eff64a84",
   "metadata": {},
   "outputs": [],
   "source": []
  }
 ],
 "metadata": {
  "kernelspec": {
   "display_name": "Python 3 (ipykernel)",
   "language": "python",
   "name": "python3"
  },
  "language_info": {
   "codemirror_mode": {
    "name": "ipython",
    "version": 3
   },
   "file_extension": ".py",
   "mimetype": "text/x-python",
   "name": "python",
   "nbconvert_exporter": "python",
   "pygments_lexer": "ipython3",
   "version": "3.9.12"
  }
 },
 "nbformat": 4,
 "nbformat_minor": 5
}
