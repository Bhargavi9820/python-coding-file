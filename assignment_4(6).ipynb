{
  "nbformat": 4,
  "nbformat_minor": 0,
  "metadata": {
    "colab": {
      "provenance": []
    },
    "kernelspec": {
      "name": "python3",
      "display_name": "Python 3"
    },
    "language_info": {
      "name": "python"
    }
  },
  "cells": [
    {
      "cell_type": "code",
      "execution_count": null,
      "metadata": {
        "id": "wGfwfWlm11kx"
      },
      "outputs": [],
      "source": [
        "#1)Define a function which will return Max of three numbers"
      ]
    },
    {
      "cell_type": "code",
      "source": [
        "def max_of_three(a, b, c):\n",
        "    return max(a, b, c)\n",
        "\n",
        "num1 = 10\n",
        "num2 = 25\n",
        "num3 = 15\n",
        "\n",
        "maximum = max_of_three(num1, num2, num3)\n",
        "print(\"The maximum of the three numbers is:\", maximum)\n"
      ],
      "metadata": {
        "colab": {
          "base_uri": "https://localhost:8080/"
        },
        "id": "mn55xdJf2nLL",
        "outputId": "545b2b3c-5c9d-4274-9268-b58b37955637"
      },
      "execution_count": null,
      "outputs": [
        {
          "output_type": "stream",
          "name": "stdout",
          "text": [
            "The maximum of the three numbers is: 25\n"
          ]
        }
      ]
    },
    {
      "cell_type": "code",
      "source": [
        "#2)Define a Python Function to reverse a string."
      ],
      "metadata": {
        "id": "BH9zhEE231zq"
      },
      "execution_count": null,
      "outputs": []
    },
    {
      "cell_type": "code",
      "source": [
        "def reverse_string(input_string):\n",
        "    return input_string[::-1]\n",
        "result = reverse_string(\"Hello, World!\")\n",
        "print(result)"
      ],
      "metadata": {
        "colab": {
          "base_uri": "https://localhost:8080/"
        },
        "id": "wy4s6e8132Uu",
        "outputId": "98e05e00-2c0a-4e93-8fc7-14815b247d3b"
      },
      "execution_count": 3,
      "outputs": [
        {
          "output_type": "stream",
          "name": "stdout",
          "text": [
            "!dlroW ,olleH\n"
          ]
        }
      ]
    },
    {
      "cell_type": "code",
      "source": [
        "#Write a Python program to define a function that accepts 2 values and return its sum, subtraction and multiplication."
      ],
      "metadata": {
        "id": "QfeEnxG14WyN"
      },
      "execution_count": null,
      "outputs": []
    },
    {
      "cell_type": "code",
      "source": [
        "def perform_operations(value1, value2):\n",
        "    sum_result = value1 + value2\n",
        "    subtraction_result = value1 - value2\n",
        "    multiplication_result = value1 * value2\n",
        "    return sum_result, subtraction_result, multiplication_result\n",
        "\n",
        "# Example usage:\n",
        "result = perform_operations(5, 3)\n",
        "print(\"Sum:\", result[0])\n",
        "print(\"Subtraction:\", result[1])\n",
        "print(\"Multiplication:\", result[2])\n"
      ],
      "metadata": {
        "colab": {
          "base_uri": "https://localhost:8080/"
        },
        "id": "aTHc5Zlu42sj",
        "outputId": "7f215064-ca79-4cc3-bc1d-d7c1f4a0e476"
      },
      "execution_count": 5,
      "outputs": [
        {
          "output_type": "stream",
          "name": "stdout",
          "text": [
            "Sum: 8\n",
            "Subtraction: 2\n",
            "Multiplication: 15\n"
          ]
        }
      ]
    },
    {
      "cell_type": "code",
      "source": [
        "#4)Define a function that accepts roll number and returns whether the student is present or absent."
      ],
      "metadata": {
        "id": "KhtqcORe5Q41"
      },
      "execution_count": null,
      "outputs": []
    },
    {
      "cell_type": "code",
      "source": [
        "\n",
        "def check_attendance(roll_number):\n",
        "    if roll_number % 2 == 0:\n",
        "        return \"Present\"\n",
        "    else:\n",
        "        return \"Absent\"\n",
        "result = check_attendance(101)\n",
        "print(result)\n"
      ],
      "metadata": {
        "colab": {
          "base_uri": "https://localhost:8080/"
        },
        "id": "Or1ZGlbV5lwO",
        "outputId": "b862e24e-7b91-4dab-9731-754472c55e85"
      },
      "execution_count": 9,
      "outputs": [
        {
          "output_type": "stream",
          "name": "stdout",
          "text": [
            "Absent\n"
          ]
        }
      ]
    },
    {
      "cell_type": "code",
      "source": [
        "#Define a function in python that accepts n values and returns the maximum of n numbers"
      ],
      "metadata": {
        "id": "6lFgua676EU-"
      },
      "execution_count": null,
      "outputs": []
    },
    {
      "cell_type": "code",
      "source": [
        "def max_of_n_numbers(*args):\n",
        "    if len(args) == 0:\n",
        "        raise ValueError(\"At least one number must be provided.\")\n",
        "    return max(args)\n",
        "\n",
        "# Example usage:\n",
        "numbers = [10, 25, 15, 30, 5]\n",
        "\n",
        "maximum = max_of_n_numbers(*numbers)\n",
        "print(\"The maximum of the numbers is:\", maximum)\n"
      ],
      "metadata": {
        "colab": {
          "base_uri": "https://localhost:8080/"
        },
        "id": "L8og-K8X54Ds",
        "outputId": "52ca1887-fc3c-4093-e73a-7ff5d9fd1aeb"
      },
      "execution_count": 10,
      "outputs": [
        {
          "output_type": "stream",
          "name": "stdout",
          "text": [
            "The maximum of the numbers is: 30\n"
          ]
        }
      ]
    },
    {
      "cell_type": "code",
      "source": [],
      "metadata": {
        "id": "nR4Eq5-337ZH"
      },
      "execution_count": null,
      "outputs": []
    },
    {
      "cell_type": "code",
      "source": [],
      "metadata": {
        "id": "0IqCH8Zb61Tu"
      },
      "execution_count": null,
      "outputs": []
    },
    {
      "cell_type": "code",
      "source": [
        "def count_vowels_and_consonants(word):\n",
        "    vowels = \"AEIOUaeiou\"\n",
        "    vowel_count = 0\n",
        "    consonant_count = 0\n",
        "\n",
        "    for char in word:\n",
        "        if char in vowels:\n",
        "            vowel_count += 1\n",
        "        elif char.isalpha():\n",
        "            consonant_count += 1\n",
        "\n",
        "    return vowel_count, consonant_count\n",
        "\n",
        "word = \"HelloWorld\"\n",
        "\n",
        "vowels, consonants = count_vowels_and_consonants(word)\n",
        "print(\"Number of vowels:\", vowels)\n",
        "print(\"Number of consonants:\", consonants)\n"
      ],
      "metadata": {
        "colab": {
          "base_uri": "https://localhost:8080/"
        },
        "id": "2J2MOPsk6YQV",
        "outputId": "7bff044d-4660-45c2-8d6d-1a4af7cb7b7e"
      },
      "execution_count": 11,
      "outputs": [
        {
          "output_type": "stream",
          "name": "stdout",
          "text": [
            "Number of vowels: 3\n",
            "Number of consonants: 7\n"
          ]
        }
      ]
    },
    {
      "cell_type": "code",
      "source": [],
      "metadata": {
        "id": "Me9bSgrh649N"
      },
      "execution_count": null,
      "outputs": []
    },
    {
      "cell_type": "code",
      "source": [
        "# Iterative approach\n",
        "def factorial_iterative(n):\n",
        "    if n < 0:\n",
        "        raise ValueError(\"Factorial is not defined for negative numbers.\")\n",
        "    result = 1\n",
        "    for i in range(1, n + 1):\n",
        "        result *= i\n",
        "    return result\n",
        "\n",
        "# Recursive approach\n",
        "def factorial_recursive(n):\n",
        "    if n < 0:\n",
        "        raise ValueError(\"Factorial is not defined for negative numbers.\")\n",
        "    if n == 0 or n == 1:\n",
        "        return 1\n",
        "    return n * factorial_recursive(n - 1)\n",
        "\n",
        "num = 5\n",
        "\n",
        "factorial_iter = factorial_iterative(num)\n",
        "factorial_rec = factorial_recursive(num)\n",
        "\n",
        "print(f\"Factorial of {num} (iterative): {factorial_iter}\")\n",
        "print(f\"Factorial of {num} (recursive): {factorial_rec}\")\n"
      ],
      "metadata": {
        "colab": {
          "base_uri": "https://localhost:8080/"
        },
        "id": "3jk9unSD65rk",
        "outputId": "2b6a69e3-ad41-4c0f-aa43-c74f7ac5dc55"
      },
      "execution_count": 12,
      "outputs": [
        {
          "output_type": "stream",
          "name": "stdout",
          "text": [
            "Factorial of 5 (iterative): 120\n",
            "Factorial of 5 (recursive): 120\n"
          ]
        }
      ]
    },
    {
      "cell_type": "code",
      "source": [
        "#8)Define a function that accepts radius and returns the area of a circle.\n"
      ],
      "metadata": {
        "id": "oY360CJv6-41"
      },
      "execution_count": null,
      "outputs": []
    },
    {
      "cell_type": "code",
      "source": [
        "import math\n",
        "\n",
        "def circle_area(radius):\n",
        "    if radius < 0:\n",
        "        raise ValueError(\"Radius cannot be negative.\")\n",
        "    return math.pi * (radius ** 2)\n",
        "\n",
        "radius = 5.0\n",
        "\n",
        "area = circle_area(radius)\n",
        "print(f\"The area of the circle with radius {radius} is: {area:.2f}\")\n"
      ],
      "metadata": {
        "colab": {
          "base_uri": "https://localhost:8080/"
        },
        "id": "ju6OIrND6_cy",
        "outputId": "05fc873a-5e9f-4808-fb6b-a6e74bd9c948"
      },
      "execution_count": 13,
      "outputs": [
        {
          "output_type": "stream",
          "name": "stdout",
          "text": [
            "The area of the circle with radius 5.0 is: 78.54\n"
          ]
        }
      ]
    },
    {
      "cell_type": "code",
      "source": [
        "#9)Define a function that takes a number as a parameter and check the number is prime or not."
      ],
      "metadata": {
        "id": "flDd3_vS7dIt"
      },
      "execution_count": null,
      "outputs": []
    },
    {
      "cell_type": "code",
      "source": [
        "def is_prime(number):\n",
        "    if number <= 1:\n",
        "        return False\n",
        "    elif number <= 3:\n",
        "        return True\n",
        "    elif number % 2 == 0 or number % 3 == 0:\n",
        "        return False\n",
        "\n",
        "    i = 5\n",
        "    while i * i <= number:\n",
        "        if number % i == 0 or number % (i + 2) == 0:\n",
        "            return False\n",
        "        i += 6\n",
        "\n",
        "    return True\n",
        "\n",
        "if is_prime(num):\n",
        "    print(f\"{num} is a prime number.\")\n",
        "else:\n",
        "    print(f\"{num} is not a prime number.\")\n"
      ],
      "metadata": {
        "colab": {
          "base_uri": "https://localhost:8080/"
        },
        "id": "KGoJ5w1K7ofL",
        "outputId": "fcc11e87-f669-4587-8642-5d6153369508"
      },
      "execution_count": 15,
      "outputs": [
        {
          "output_type": "stream",
          "name": "stdout",
          "text": [
            "17 is a prime number.\n"
          ]
        }
      ]
    },
    {
      "cell_type": "code",
      "source": [],
      "metadata": {
        "id": "scddSyn_72hV"
      },
      "execution_count": null,
      "outputs": []
    },
    {
      "cell_type": "code",
      "source": [
        "def marathon_distance(pieces):\n",
        "    return sum(pieces) == 25\n",
        "\n",
        "# Example usage:\n",
        "print(marathon_distance([1, 2, 3, 4]))  # Output: False\n",
        "print(marathon_distance([1, 9, 5, 8, 2]))  # Output: True\n",
        "print(marathon_distance([-6, 15, 4]))  # Output: True\n"
      ],
      "metadata": {
        "colab": {
          "base_uri": "https://localhost:8080/"
        },
        "id": "Gk2S4CRL8WDo",
        "outputId": "d43c5665-6fd6-4f63-f3f5-e55d6fe39763"
      },
      "execution_count": 16,
      "outputs": [
        {
          "output_type": "stream",
          "name": "stdout",
          "text": [
            "False\n",
            "True\n",
            "False\n"
          ]
        }
      ]
    },
    {
      "cell_type": "code",
      "source": [
        "#Create a function that takes a number and returns True if the number is automorphic, False if it isn't.\n",
        "#** number n is automorphic if n^2 ends in n.\n",
        "#Example:\n",
        "#n=5, n^2=25\n",
        "#so 5 is an automorphic"
      ],
      "metadata": {
        "id": "K6rLPw7l8_or"
      },
      "execution_count": null,
      "outputs": []
    },
    {
      "cell_type": "code",
      "source": [
        "def is_automorphic(n):\n",
        "    squared = n * n\n",
        "    return str(squared).endswith(str(n))\n",
        "\n",
        "# Example usage:\n",
        "print(is_automorphic(5))  # Output: True (5^2 = 25)\n",
        "print(is_automorphic(6))  # Output: False (6^2 = 36)\n",
        "print(is_automorphic(25))  # Output: True (25^2 = 625)\n"
      ],
      "metadata": {
        "id": "6oacwVGa9HA_"
      },
      "execution_count": null,
      "outputs": []
    },
    {
      "cell_type": "code",
      "source": [
        "#Create a function, that will take given a, b, c, and do the following:\n",
        " #Add a to itself b times and Check if the result is divisible by c. and return true if it is divisible by c or false\n",
        " #Create a function, that will take given a, b, c, and do the following:\n",
        " #Add a to itself b times and Check if the result is divisible by c.\n",
        " #and return true if it is divisible by c or false\n",
        " #So output is True because 1+1=2 and 2/2=0"
      ],
      "metadata": {
        "id": "lYuiObnx9PDX"
      },
      "execution_count": null,
      "outputs": []
    },
    {
      "cell_type": "code",
      "source": [
        "def check_divisibility(a, b, c):\n",
        "    result = a * b\n",
        "    return result % c == 0\n",
        "a = 1\n",
        "b = 1\n",
        "c = 2\n",
        "\n",
        "divisible = check_divisibility(a, b, c)\n",
        "print(divisible)  # Output: True (1 + 1 = 2, 2 % 2 = 0)\n"
      ],
      "metadata": {
        "colab": {
          "base_uri": "https://localhost:8080/"
        },
        "id": "Fdh-b75_9dCN",
        "outputId": "79ab4ed4-e95c-43ee-a8fc-f3aa541c7d07"
      },
      "execution_count": 21,
      "outputs": [
        {
          "output_type": "stream",
          "name": "stdout",
          "text": [
            "False\n"
          ]
        }
      ]
    },
    {
      "cell_type": "code",
      "source": [
        "#13Create a function that changes specific words into emoticons.Given a sentence as a string, replace the words smile, grin, sad and mad\n",
        "#with their corresponding emoticons.\n",
        "#word emoticon\n",
        "#smile :D\n",
        "#grin :)\n",
        "#sad :(\n",
        "#mad :P\n",
        "#Examples"
      ],
      "metadata": {
        "id": "jH8xl4P19dMO"
      },
      "execution_count": null,
      "outputs": []
    },
    {
      "cell_type": "code",
      "source": [
        "def replace_emoticons(sentence):\n",
        "    emoticon_mapping = {\n",
        "        \"smile\": \":D\",\n",
        "        \"grin\": \":)\",\n",
        "        \"sad\": \":(\",\n",
        "        \"mad\": \":P\"\n",
        "    }\n",
        "\n",
        "    words = sentence.split()\n",
        "    for i in range(len(words)):\n",
        "        word = words[i].lower()\n",
        "        if word in emoticon_mapping:\n",
        "            words[i] = emoticon_mapping[word]\n",
        "\n",
        "    return \" \".join(words)\n",
        "\n",
        "input_1 = \"Make me smile\"\n",
        "output_1 = replace_emoticons(input_1)\n",
        "print(\"Input:\", input_1)\n",
        "print(\"Output:\", output_1)\n",
        "\n",
        "input_2 = \"Make me grin\"\n",
        "output_2 = replace_emoticons(input_2)\n",
        "print(\"Input:\", input_2)\n",
        "print(\"Output:\", output_2)\n",
        "\n",
        "input_3 = \"Make me sad\"\n",
        "output_3 = replace_emoticons(input_3)\n",
        "print(\"Input:\", input_3)\n",
        "print(\"Output:\", output_3)\n"
      ],
      "metadata": {
        "colab": {
          "base_uri": "https://localhost:8080/"
        },
        "id": "YkMt1o7_9dXU",
        "outputId": "c8742e6b-cb63-4957-dc2e-c2041cc3742e"
      },
      "execution_count": 22,
      "outputs": [
        {
          "output_type": "stream",
          "name": "stdout",
          "text": [
            "Input: Make me smile\n",
            "Output: Make me :D\n",
            "Input: Make me grin\n",
            "Output: Make me :)\n",
            "Input: Make me sad\n",
            "Output: Make me :(\n"
          ]
        }
      ]
    },
    {
      "cell_type": "code",
      "source": [
        "#14Write a Python program to square and cube every number in a given list of integers using Lambda"
      ],
      "metadata": {
        "id": "TUm_dxEi9dhR"
      },
      "execution_count": null,
      "outputs": []
    },
    {
      "cell_type": "code",
      "source": [
        "numbers = [1, 2, 3, 4, 5]\n",
        "\n",
        "square = lambda x: x ** 2\n",
        "cube = lambda x: x ** 3\n",
        "\n",
        "squared_numbers = list(map(square, numbers))\n",
        "cubed_numbers = list(map(cube, numbers))\n",
        "\n",
        "print(\"Original Numbers:\", numbers)\n",
        "print(\"Squared Numbers:\", squared_numbers)\n",
        "print(\"Cubed Numbers:\", cubed_numbers)\n"
      ],
      "metadata": {
        "colab": {
          "base_uri": "https://localhost:8080/"
        },
        "id": "VqEou4TB9fPo",
        "outputId": "54825209-53fe-4707-e143-90fedca4e908"
      },
      "execution_count": 18,
      "outputs": [
        {
          "output_type": "stream",
          "name": "stdout",
          "text": [
            "Original Numbers: [1, 2, 3, 4, 5]\n",
            "Squared Numbers: [1, 4, 9, 16, 25]\n",
            "Cubed Numbers: [1, 8, 27, 64, 125]\n"
          ]
        }
      ]
    },
    {
      "cell_type": "code",
      "source": [
        "#15Write a Python program to check whether a given string is number or not using Lambda"
      ],
      "metadata": {
        "id": "WOOBsXQVDim3"
      },
      "execution_count": null,
      "outputs": []
    },
    {
      "cell_type": "code",
      "source": [
        "is_number = lambda s: s.replace('.', '', 1).isdigit() if s.count('.') <= 1 else False\n",
        "\n",
        "input_string = input(\"Enter a string: \")\n",
        "\n",
        "if is_number(input_string):\n",
        "    print(f\"'{input_string}' is a number.\")\n",
        "else:\n",
        "    print(f\"'{input_string}' is not a number.\")\n"
      ],
      "metadata": {
        "colab": {
          "base_uri": "https://localhost:8080/"
        },
        "id": "ujlUf34AD2to",
        "outputId": "cfeae545-499d-4b6e-cd29-df08ba232f4a"
      },
      "execution_count": 23,
      "outputs": [
        {
          "output_type": "stream",
          "name": "stdout",
          "text": [
            "Enter a string: 12\n",
            "'12' is a number.\n"
          ]
        }
      ]
    }
  ]
}