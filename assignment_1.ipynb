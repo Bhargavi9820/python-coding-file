{
  "nbformat": 4,
  "nbformat_minor": 0,
  "metadata": {
    "colab": {
      "provenance": []
    },
    "kernelspec": {
      "name": "python3",
      "display_name": "Python 3"
    },
    "language_info": {
      "name": "python"
    }
  },
  "cells": [
    {
      "cell_type": "code",
      "execution_count": null,
      "metadata": {
        "id": "ncqPYx-g6RqU"
      },
      "outputs": [],
      "source": [
        "#1.Write a python program to convert a string to lower case"
      ]
    },
    {
      "cell_type": "code",
      "source": [
        "x = input()\n",
        "x.lower()"
      ],
      "metadata": {
        "colab": {
          "base_uri": "https://localhost:8080/",
          "height": 52
        },
        "id": "oNr-FGYEvF5C",
        "outputId": "a092421e-279f-4673-e0da-36622dff8525"
      },
      "execution_count": null,
      "outputs": [
        {
          "name": "stdout",
          "output_type": "stream",
          "text": [
            "\"HELLO WORLD\n"
          ]
        },
        {
          "output_type": "execute_result",
          "data": {
            "text/plain": [
              "'\"hello world'"
            ],
            "application/vnd.google.colaboratory.intrinsic+json": {
              "type": "string"
            }
          },
          "metadata": {},
          "execution_count": 19
        }
      ]
    },
    {
      "cell_type": "code",
      "source": [
        "#2.Write a python program to convert only odd indexed characters to lower case\n",
        "\n",
        "#Ex:- PYTHON\n",
        "\n",
        "#Output: - PyThOn"
      ],
      "metadata": {
        "id": "cRI80ztsrcB_"
      },
      "execution_count": null,
      "outputs": []
    },
    {
      "cell_type": "code",
      "source": [
        "string=\"PYTHON\"\n",
        "string[0]+string[1].lower()+string[2]+string[3].lower()+string[4]+string[5].lower()"
      ],
      "metadata": {
        "colab": {
          "base_uri": "https://localhost:8080/",
          "height": 35
        },
        "id": "qrn2zYf-rAdW",
        "outputId": "3966ae65-c0fc-4338-cc41-88ae3d7a9177"
      },
      "execution_count": null,
      "outputs": [
        {
          "output_type": "execute_result",
          "data": {
            "text/plain": [
              "'PyThOn'"
            ],
            "application/vnd.google.colaboratory.intrinsic+json": {
              "type": "string"
            }
          },
          "metadata": {},
          "execution_count": 21
        }
      ]
    },
    {
      "cell_type": "code",
      "source": [
        "# 3.Write a python program to convert only even indexed characters to lower case\n",
        "\n",
        "#Ex:- PYTHON\n",
        "\n",
        "#Output: - pYtHoN"
      ],
      "metadata": {
        "id": "aGy2Edt4rUOk"
      },
      "execution_count": null,
      "outputs": []
    },
    {
      "cell_type": "code",
      "source": [
        "string=\"PYTHON\"\n",
        "string[0].lower()+string[1]+string[2].lower()+string[3]+string[4].lower()+string[5]"
      ],
      "metadata": {
        "colab": {
          "base_uri": "https://localhost:8080/",
          "height": 35
        },
        "id": "Hlw0r1BsrlEC",
        "outputId": "25b21761-50e9-4a02-e4fe-881050eda600"
      },
      "execution_count": null,
      "outputs": [
        {
          "output_type": "execute_result",
          "data": {
            "text/plain": [
              "'pYtHoN'"
            ],
            "application/vnd.google.colaboratory.intrinsic+json": {
              "type": "string"
            }
          },
          "metadata": {},
          "execution_count": 5
        }
      ]
    },
    {
      "cell_type": "code",
      "source": [
        "# 4.Write a python program to convert only odd indexed characters to upper case\n",
        "\n",
        "#Ex:- python\n",
        "\n",
        "#Output: - pYtHoN"
      ],
      "metadata": {
        "id": "oAX4st_RrvVO"
      },
      "execution_count": null,
      "outputs": []
    },
    {
      "cell_type": "code",
      "source": [
        "string=\"python\"\n",
        "string[0]+string[1].upper()+string[2]+string[3].upper()+string[4]+string[5].upper()"
      ],
      "metadata": {
        "colab": {
          "base_uri": "https://localhost:8080/",
          "height": 35
        },
        "id": "dQD4fRxVrxYw",
        "outputId": "d68bb83d-d97b-4599-cb42-13f60714ab4e"
      },
      "execution_count": null,
      "outputs": [
        {
          "output_type": "execute_result",
          "data": {
            "text/plain": [
              "'pYtHoN'"
            ],
            "application/vnd.google.colaboratory.intrinsic+json": {
              "type": "string"
            }
          },
          "metadata": {},
          "execution_count": 6
        }
      ]
    },
    {
      "cell_type": "code",
      "source": [
        "# 5.Write a python program to convert only even indexed characters to upper case\n",
        "\n",
        "#Ex:- python\n",
        "\n",
        "#Output: - PyThOn"
      ],
      "metadata": {
        "id": "xwYVavFpr4s8"
      },
      "execution_count": null,
      "outputs": []
    },
    {
      "cell_type": "code",
      "source": [
        "string=\"python\"\n",
        "string[0].upper()+string[1]+string[2].upper()+string[3]+string[4].upper()+string[5]"
      ],
      "metadata": {
        "colab": {
          "base_uri": "https://localhost:8080/",
          "height": 35
        },
        "id": "1xPifBQyr9gb",
        "outputId": "d9cb5442-5a4d-462c-ef41-53f0194247b4"
      },
      "execution_count": null,
      "outputs": [
        {
          "output_type": "execute_result",
          "data": {
            "text/plain": [
              "'PyThOn'"
            ],
            "application/vnd.google.colaboratory.intrinsic+json": {
              "type": "string"
            }
          },
          "metadata": {},
          "execution_count": 8
        }
      ]
    },
    {
      "cell_type": "code",
      "source": [
        "# 6.Write a python program where you have different variable which contains your name ,sex,age, phone no ,fathers name and mothers\n",
        "#name.And by using this variable create a variable named bio-data where you will use all this variable\n",
        "\n",
        "#Ex:-print(bio-data)\n",
        "\n",
        "#Output:- My name is …., My age is ….,My phone-no is ….,my fathers name is …,and my mothers name is……"
      ],
      "metadata": {
        "id": "_xUIggu3sKl1"
      },
      "execution_count": null,
      "outputs": []
    },
    {
      "cell_type": "code",
      "source": [
        "name=input(\"enter your name: \")\n",
        "gender=input(\"enter your gender: \")\n",
        "phone_no=int(input(\"enter your phone number: \"))\n",
        "fathers_name=input(\"enter your father's name: \")\n",
        "mothers_name=input(\"enter your mother's name: \")\n",
        "bio_data=print(\"my name is {}, my gender is {}, my phone no is {}, my father name is {}, my mother name is {} and this is my bio data\")"
      ],
      "metadata": {
        "colab": {
          "base_uri": "https://localhost:8080/"
        },
        "id": "JRP88IIXsPm4",
        "outputId": "7258b4d8-ae8d-41b5-bdac-bf79cf727e8d"
      },
      "execution_count": null,
      "outputs": [
        {
          "output_type": "stream",
          "name": "stdout",
          "text": [
            "enter your name: Bhargavi muramkar\n",
            "enter your gender: female\n",
            "enter your phone number: 758085902\n",
            "enter your father's name: Gangadhar Muramkar\n",
            "enter your mother's name: Vaishali muramkar\n",
            "my name is {}, my gender is {}, my phone no is {}, my father name is {}, my mother name is {} and this is my bio data\n"
          ]
        }
      ]
    },
    {
      "cell_type": "code",
      "source": [
        "# 7. Write a python program to count how many times “@” occurred"
      ],
      "metadata": {
        "id": "0sS8ZBACs-E_"
      },
      "execution_count": null,
      "outputs": []
    },
    {
      "cell_type": "code",
      "source": [
        "a=input(\"enter your string: \")\n",
        "print(a.count(\"@\"))"
      ],
      "metadata": {
        "colab": {
          "base_uri": "https://localhost:8080/"
        },
        "id": "fnKTVy_dtBzx",
        "outputId": "0061903b-a1cf-4eeb-8ffb-5d27a3576c97"
      },
      "execution_count": null,
      "outputs": [
        {
          "output_type": "stream",
          "name": "stdout",
          "text": [
            "enter your string: abc@@@df@@\n",
            "5\n"
          ]
        }
      ]
    },
    {
      "cell_type": "code",
      "source": [
        "# 8.Write a python program to get only names from the string “name1.@gmail.com,name2.@gmail.com,name3.@gmail.com”\n",
        "#Output-name1,name2,name3\n",
        "name1=\"name1.@gmail.com\"\n",
        "name2=\"name2.@gmail.com\"\n",
        "name3=\"name3.@gmail.com\"\n",
        "print(name1[0:5])\n",
        "print(name2[0:5])\n",
        "print(name3[0:5])"
      ],
      "metadata": {
        "colab": {
          "base_uri": "https://localhost:8080/"
        },
        "id": "4zsdS4X1tP0-",
        "outputId": "661398b6-6544-4905-ae5b-54e099dd1a63"
      },
      "execution_count": null,
      "outputs": [
        {
          "output_type": "stream",
          "name": "stdout",
          "text": [
            "name1\n",
            "name2\n",
            "name3\n"
          ]
        }
      ]
    },
    {
      "cell_type": "code",
      "source": [
        "# 9.Given a string of odd length greater that 9, return a new string made of the middle three characters of a given String\n",
        "\n",
        "#Ex:- “mynameissan\n",
        "\n",
        "#Output:- “mei”\n"
      ],
      "metadata": {
        "id": "9hMYMspStXmu"
      },
      "execution_count": null,
      "outputs": []
    },
    {
      "cell_type": "code",
      "source": [
        "string=\"mynameissan\"\n",
        "string[4:7]"
      ],
      "metadata": {
        "colab": {
          "base_uri": "https://localhost:8080/",
          "height": 35
        },
        "id": "ynk7oyxhtcOv",
        "outputId": "6789e468-3134-483c-b412-4a072c3303c4"
      },
      "execution_count": null,
      "outputs": [
        {
          "output_type": "execute_result",
          "data": {
            "text/plain": [
              "'mei'"
            ],
            "application/vnd.google.colaboratory.intrinsic+json": {
              "type": "string"
            }
          },
          "metadata": {},
          "execution_count": 12
        }
      ]
    },
    {
      "cell_type": "code",
      "source": [
        "# 10.Write a python program to insert a 2 string in the middle of 1 string\n",
        "#Ex:-Str1=”myn”\n",
        "#str2=”sa”\n",
        "#Output:-“msayn”\n"
      ],
      "metadata": {
        "id": "YHjj0KcJtjUi"
      },
      "execution_count": null,
      "outputs": []
    },
    {
      "cell_type": "code",
      "source": [
        "string1=\"myn\"\n",
        "string2=\"sa\"\n",
        "string1[0]+string2+string1[1:3]"
      ],
      "metadata": {
        "colab": {
          "base_uri": "https://localhost:8080/",
          "height": 35
        },
        "id": "L8O9NGKotnK3",
        "outputId": "a5ba50c6-ad9a-4c9d-f8ce-600d0c04e9b5"
      },
      "execution_count": null,
      "outputs": [
        {
          "output_type": "execute_result",
          "data": {
            "text/plain": [
              "'msayn'"
            ],
            "application/vnd.google.colaboratory.intrinsic+json": {
              "type": "string"
            }
          },
          "metadata": {},
          "execution_count": 15
        }
      ]
    },
    {
      "cell_type": "code",
      "source": [
        "# 11.Write a program to remove vowels from the entire alphabets.\n",
        "#Ex:- “abcdefghijklmnopqrstuvwxyz” Output:- “bcdfghjklmnpqrstvwxyz"
      ],
      "metadata": {
        "id": "0QjY_Ijpts4p"
      },
      "execution_count": null,
      "outputs": []
    },
    {
      "cell_type": "code",
      "source": [
        "s=\"abcdefghijklmnopqrstuvwxyz\"\n",
        "s[1:4]+s[5:8]+s[9:14]+s[15:20]+s[21:]"
      ],
      "metadata": {
        "id": "yoPQs9DVtuWA"
      },
      "execution_count": null,
      "outputs": []
    },
    {
      "cell_type": "code",
      "source": [
        "s=\"abcdefghijklmnopqrstuvwxyz\"\n",
        "table=s.maketrans(\"aeiou\",\"     \")\n",
        "s.translate(table).replace(\" \",\"\")"
      ],
      "metadata": {
        "colab": {
          "base_uri": "https://localhost:8080/",
          "height": 35
        },
        "id": "D_5UCwiwtzcs",
        "outputId": "cb09c23f-59e5-4c89-97a3-4836c09b8b39"
      },
      "execution_count": null,
      "outputs": [
        {
          "output_type": "execute_result",
          "data": {
            "text/plain": [
              "'bcdfghjklmnpqrstvwxyz'"
            ],
            "application/vnd.google.colaboratory.intrinsic+json": {
              "type": "string"
            }
          },
          "metadata": {},
          "execution_count": 14
        }
      ]
    }
  ]
}