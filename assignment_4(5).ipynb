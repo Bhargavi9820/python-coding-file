{
  "nbformat": 4,
  "nbformat_minor": 0,
  "metadata": {
    "colab": {
      "provenance": []
    },
    "kernelspec": {
      "name": "python3",
      "display_name": "Python 3"
    },
    "language_info": {
      "name": "python"
    }
  },
  "cells": [
    {
      "cell_type": "code",
      "execution_count": null,
      "metadata": {
        "id": "qBY7C2iAS4oU"
      },
      "outputs": [],
      "source": [
        "#1)Given a list of numbers, write a python program that returns a new list which Has all duplicate elements removed. And is sorted in an increasing order.\n",
        " #Ex:\n",
        "#Input:\n",
        "#[2,1,3,4,2,3,3,2,7,9,8,7]"
      ]
    },
    {
      "cell_type": "code",
      "source": [
        "def remove_duplicates_and_sort(input_list):\n",
        "    unique_sorted_list = sorted(list(set(input_list)))\n",
        "    return unique_sorted_list\n",
        "\n",
        "input_list = [2, 1, 3, 4, 2, 3, 3, 2, 7, 9, 8, 7]\n",
        "output_list = remove_duplicates_and_sort(input_list)\n",
        "print(output_list)"
      ],
      "metadata": {
        "colab": {
          "base_uri": "https://localhost:8080/"
        },
        "id": "I2dKfKIOT3W1",
        "outputId": "6f1d68ca-e05a-4a85-9179-aa06e983cdb6"
      },
      "execution_count": null,
      "outputs": [
        {
          "output_type": "stream",
          "name": "stdout",
          "text": [
            "[1, 2, 3, 4, 7, 8, 9]\n"
          ]
        }
      ]
    },
    {
      "cell_type": "code",
      "source": [
        "# 2)Write a Python program where you will iterate over both keys and values in dictionaries"
      ],
      "metadata": {
        "id": "ZM86BXMzVj5X"
      },
      "execution_count": null,
      "outputs": []
    },
    {
      "cell_type": "code",
      "source": [
        "def iterate_dictionary(dictionary):\n",
        "    for key, value in dictionary.items():\n",
        "        print(f\"Key: {key}, Value: {value}\")\n",
        "\n",
        "my_dictionary = {\n",
        "    \"name\": \"Bhargavi\",\n",
        "    \"age\": 24,\n",
        "    \"city\": \"Nagpur\"\n",
        "}\n",
        "\n",
        "iterate_dictionary(my_dictionary)"
      ],
      "metadata": {
        "colab": {
          "base_uri": "https://localhost:8080/"
        },
        "id": "Cm6elIiwWYsO",
        "outputId": "0170d84c-3160-42ef-c975-d3d5541f59ab"
      },
      "execution_count": null,
      "outputs": [
        {
          "output_type": "stream",
          "name": "stdout",
          "text": [
            "Key: name, Value: Bhargavi\n",
            "Key: age, Value: 24\n",
            "Key: city, Value: Nagpur\n"
          ]
        }
      ]
    },
    {
      "cell_type": "code",
      "source": [
        "#Write a Python program that takes a dictionary of student names and returns a list of student names in alphabetical order\n",
        "#Ex:\n",
        "#Input:\n",
        "#{“Student 1”: \"Tarun\", \"Student 2”: \"Manoj\", \"Student 3”: \"Gephi”}\n",
        "#Output:\n",
        " #[“Gephi”,”Manoj”,” Tarun”]\n"
      ],
      "metadata": {
        "id": "ZZg7v-zGWsFB"
      },
      "execution_count": null,
      "outputs": []
    },
    {
      "cell_type": "code",
      "source": [
        "def get_sorted_student_names(student_dict):\n",
        "    sorted_names = sorted(student_dict.values())\n",
        "    return sorted_names\n",
        "\n",
        "input_dict = {\n",
        "    \"Student 1\": \"Tarun\",\n",
        "    \"Student 2\": \"Manoj\",\n",
        "    \"Student 3\": \"Gephi\"\n",
        "}\n",
        "\n",
        "sorted_names_list = get_sorted_student_names(input_dict)\n",
        "print(sorted_names_list)\n",
        "\n",
        "\n",
        "\n",
        "\n",
        "\n",
        "\n",
        "\n"
      ],
      "metadata": {
        "colab": {
          "base_uri": "https://localhost:8080/"
        },
        "id": "2-WJSnQcXOi5",
        "outputId": "75b2d6b1-c004-4bdf-d8db-cdb3584a4ec5"
      },
      "execution_count": null,
      "outputs": [
        {
          "output_type": "stream",
          "name": "stdout",
          "text": [
            "['Gephi', 'Manoj', 'Tarun']\n"
          ]
        }
      ]
    },
    {
      "cell_type": "code",
      "source": [
        "#4)Write a Python which returns a new list of Booleans, from a given number. Iterating through the number one digit at a time, append True if the digit is 1 and False if it is 0.\n",
        "#Ex:\n",
        "#Input: “01001”\n",
        "#Output: [“False”, “True”, “False”,” False”,” True”]\n"
      ],
      "metadata": {
        "id": "MWPSnLZ9XoFL"
      },
      "execution_count": null,
      "outputs": []
    },
    {
      "cell_type": "code",
      "source": [
        "def convert_number_to_boolean_list(number_str):\n",
        "    boolean_list = [bool(int(digit)) for digit in number_str]\n",
        "    return boolean_list\n",
        "\n",
        "input_number = \"01001\"\n",
        "output_boolean_list = convert_number_to_boolean_list(input_number)\n",
        "output_boolean_str_list = [str(item) for item in output_boolean_list]\n",
        "\n",
        "print(output_boolean_str_list)"
      ],
      "metadata": {
        "colab": {
          "base_uri": "https://localhost:8080/"
        },
        "id": "VbL3POa6Y29l",
        "outputId": "f0251125-9d42-4a82-f11a-732ab22c972b"
      },
      "execution_count": null,
      "outputs": [
        {
          "output_type": "stream",
          "name": "stdout",
          "text": [
            "['False', 'True', 'False', 'False', 'True']\n"
          ]
        }
      ]
    },
    {
      "cell_type": "code",
      "source": [
        "# 5) Write a Python program where you will return a dictionary where the keys will be the character and the values will be the occurrence of the character in the string, and it\n",
        "#should for any string inputs (dynamic)\n",
        "#Ex:\n",
        "#Input: “my name is ame”\n",
        "#Output: {“m”:3,” y”:1,” n”:1,” a”:2,” e”:2,” i”:1,” s”:1}"
      ],
      "metadata": {
        "id": "gspRq55DY9BE"
      },
      "execution_count": null,
      "outputs": []
    },
    {
      "cell_type": "code",
      "source": [
        "def count_character_occurrences(input_string):\n",
        "    char_count = {}\n",
        "    for char in input_string:\n",
        "        if char in char_count:\n",
        "            char_count[char] += 1\n",
        "        else:\n",
        "            char_count[char] = 1\n",
        "    return char_count\n",
        "\n",
        "input_string = \"my name is ame\"\n",
        "character_occurrences = count_character_occurrences(input_string)\n",
        "print(character_occurrences)\n"
      ],
      "metadata": {
        "colab": {
          "base_uri": "https://localhost:8080/"
        },
        "id": "Eh-7ejgDZckj",
        "outputId": "8650d1aa-af78-4077-b419-6b2b9b21dbce"
      },
      "execution_count": null,
      "outputs": [
        {
          "output_type": "stream",
          "name": "stdout",
          "text": [
            "{'m': 3, 'y': 1, ' ': 3, 'n': 1, 'a': 2, 'e': 2, 'i': 1, 's': 1}\n"
          ]
        }
      ]
    },
    {
      "cell_type": "code",
      "source": [
        "# 6)Given a dictionary containing the names and ages of a group of people, return the name of the oldest person\n",
        "#Ex:\n",
        "#Input: {\"Tmma\": 41, \"Ackes\": 45, \"myna\": 15, \"Benthon\": 29}\n",
        "#Output: “Ackes”\n"
      ],
      "metadata": {
        "id": "BinpwBagZjIQ"
      },
      "execution_count": null,
      "outputs": []
    },
    {
      "cell_type": "code",
      "source": [
        "def get_oldest_person_name(people_dict):\n",
        "    oldest_age = -1\n",
        "    oldest_person = None\n",
        "\n",
        "    for name, age in people_dict.items():\n",
        "        if age > oldest_age:\n",
        "            oldest_age = age\n",
        "            oldest_person = name\n",
        "\n",
        "    return oldest_person\n",
        "\n",
        "input_dict = {\n",
        "    \"Tmma\": 41,\n",
        "    \"Ackes\": 45,\n",
        "    \"myna\": 15,\n",
        "    \"Benthon\": 29\n",
        "}\n",
        "\n",
        "oldest_person_name = get_oldest_person_name(input_dict)\n",
        "print(oldest_person_name)\n"
      ],
      "metadata": {
        "colab": {
          "base_uri": "https://localhost:8080/"
        },
        "id": "otse0ckMZ-Cx",
        "outputId": "8c81849e-cda9-4575-c86f-b417f64c46de"
      },
      "execution_count": null,
      "outputs": [
        {
          "output_type": "stream",
          "name": "stdout",
          "text": [
            "Ackes\n"
          ]
        }
      ]
    },
    {
      "cell_type": "code",
      "source": [
        "# 7)Write a Python program to create a Rock, Paper, Scissor game, use two inputs for two players:\n",
        "#Conditions: -Rock beats Scissors, Scissors beats Paper, Paper beats Rock"
      ],
      "metadata": {
        "id": "P69-ut30a1Fv"
      },
      "execution_count": null,
      "outputs": []
    },
    {
      "cell_type": "code",
      "source": [
        "def determine_winner(player1_choice, player2_choice):\n",
        "    if player1_choice == player2_choice:\n",
        "        return \"It's a tie!\"\n",
        "    elif (\n",
        "        (player1_choice == \"Rock\" and player2_choice == \"Scissors\") or\n",
        "        (player1_choice == \"Scissors\" and player2_choice == \"Paper\") or\n",
        "        (player1_choice == \"Paper\" and player2_choice == \"Rock\")\n",
        "    ):\n",
        "        return \"Player 1 wins!\"\n",
        "    else:\n",
        "        return \"Player 2 wins!\"\n",
        "\n",
        "# Get choices from players\n",
        "player1_choice = input(\"Player 1, enter your choice (Rock/Paper/Scissors): \").capitalize()\n",
        "player2_choice = input(\"Player 2, enter your choice (Rock/Paper/Scissors): \").capitalize()\n",
        "\n",
        "# Validate choices\n",
        "valid_choices = [\"Rock\", \"Paper\", \"Scissors\"]\n",
        "if player1_choice not in valid_choices or player2_choice not in valid_choices:\n",
        "    print(\"Invalid choice! Please choose Rock, Paper, or Scissors.\")\n",
        "else:\n",
        "    winner = determine_winner(player1_choice, player2_choice)\n",
        "    print(winner)\n"
      ],
      "metadata": {
        "colab": {
          "base_uri": "https://localhost:8080/"
        },
        "id": "PMoIdO-rbLnD",
        "outputId": "62e5c3f9-a5b9-4de6-e31c-7594b902469f"
      },
      "execution_count": null,
      "outputs": [
        {
          "output_type": "stream",
          "name": "stdout",
          "text": [
            "Player 1, enter your choice (Rock/Paper/Scissors): rock\n",
            "Player 2, enter your choice (Rock/Paper/Scissors): scissors\n",
            "Player 1 wins!\n"
          ]
        }
      ]
    },
    {
      "cell_type": "code",
      "source": [
        "#8) Create a program that returns a list of items that you can afford in the store with the money you have in your wallet. Create a dictionary with items as key and price as\n",
        "#values\n",
        "#Ex:\n",
        "#Input:\n",
        "#{“water bottles”: “20”,” chips”:10,” Iphone”;49000“,” towel”:90,” pens”:58,” cake”;400}\n",
        "#Your wallet balance: -50\n",
        "#Output: [“water bottles”, “chips”]"
      ],
      "metadata": {
        "id": "Kj3xb8m8b2uL"
      },
      "execution_count": null,
      "outputs": []
    },
    {
      "cell_type": "code",
      "source": [
        "def items_you_can_afford(item_prices, wallet_balance):\n",
        "    affordable_items = []\n",
        "\n",
        "    for item, price in item_prices.items():\n",
        "        if int(price) <= wallet_balance:\n",
        "            affordable_items.append(item)\n",
        "\n",
        "    return affordable_items\n",
        "\n",
        "store_items = {\n",
        "    \"water bottles\": \"20\",\n",
        "    \"chips\": 10,\n",
        "    \"Iphone\": 49000,\n",
        "    \"towel\": 90,\n",
        "    \"pens\": 58,\n",
        "    \"cake\": 400\n",
        "}\n",
        "\n",
        "wallet_balance = int(input(\"Enter your wallet balance: \"))\n",
        "affordable_items_list = items_you_can_afford(store_items, wallet_balance)\n",
        "print(\"Items you can afford:\", affordable_items_list)\n"
      ],
      "metadata": {
        "colab": {
          "base_uri": "https://localhost:8080/"
        },
        "id": "YtRzjbXwcYLt",
        "outputId": "7e69b6d0-f01c-453a-8345-e17c89081a33"
      },
      "execution_count": null,
      "outputs": [
        {
          "output_type": "stream",
          "name": "stdout",
          "text": [
            "Enter your wallet balance: 20\n",
            "Items you can afford: ['water bottles', 'chips']\n"
          ]
        }
      ]
    },
    {
      "cell_type": "code",
      "source": [
        "# 9) Write a Python program to create a union of sets"
      ],
      "metadata": {
        "id": "7e9Q7cRadg7F"
      },
      "execution_count": null,
      "outputs": []
    },
    {
      "cell_type": "code",
      "source": [
        "def union_of_sets(set1, set2):\n",
        "    union_set = set1.union(set2)\n",
        "    return union_set\n",
        "\n",
        "# Example sets\n",
        "set1 = {1, 2, 3, 4, 5}\n",
        "set2 = {4, 5, 6, 7, 8}\n",
        "\n",
        "result_union = union_of_sets(set1, set2)\n",
        "print(\"Union of sets:\", result_union)\n"
      ],
      "metadata": {
        "colab": {
          "base_uri": "https://localhost:8080/"
        },
        "id": "6Mc5KKkkeAtS",
        "outputId": "3e0eea2c-50f2-40e5-fd9f-45f86dbe1992"
      },
      "execution_count": null,
      "outputs": [
        {
          "output_type": "stream",
          "name": "stdout",
          "text": [
            "Union of sets: {1, 2, 3, 4, 5, 6, 7, 8}\n"
          ]
        }
      ]
    },
    {
      "cell_type": "code",
      "source": [
        "# 10) Write a Python program to check if a given value is present in a set or not (Dynamic)"
      ],
      "metadata": {
        "id": "kET1uFhzeFvH"
      },
      "execution_count": null,
      "outputs": []
    },
    {
      "cell_type": "code",
      "source": [
        "def check_value_in_set(input_set, value):\n",
        "    if value in input_set:\n",
        "        return True\n",
        "    else:\n",
        "        return False\n",
        "\n",
        "\n",
        "example_set = {1, 2, 3, 4, 5}\n",
        "value_to_check = int(input(\"Enter a value to check in the set: \"))\n",
        "is_present = check_value_in_set(example_set, value_to_check)\n",
        "\n",
        "if is_present:\n",
        "    print(f\"{value_to_check} is present in the set.\")\n",
        "else:\n",
        "    print(f\"{value_to_check} is not present in the set.\")\n"
      ],
      "metadata": {
        "colab": {
          "base_uri": "https://localhost:8080/"
        },
        "id": "NP5B6J9qe4s_",
        "outputId": "41f62c6a-fa7b-4438-b796-904296e671e9"
      },
      "execution_count": null,
      "outputs": [
        {
          "output_type": "stream",
          "name": "stdout",
          "text": [
            "Enter a value to check in the set: 3\n",
            "3 is present in the set.\n"
          ]
        }
      ]
    },
    {
      "cell_type": "code",
      "source": [
        "#11)Write a Python program to find the occurrences of 3 most common words in a given text. And make it as a dictionaries\n",
        "#Ex:\n",
        "#Input:” Cat dog dog cat horse dog dog mouse horse dog mouse tiger lion tiger cat mouse snail”\n",
        "#Output: (“dog”:5,”cat”:3,” mouse”;3)"
      ],
      "metadata": {
        "id": "xbfebkE0fSZu"
      },
      "execution_count": null,
      "outputs": []
    },
    {
      "cell_type": "code",
      "source": [
        "from collections import Counter\n",
        "\n",
        "def most_common_words(text, num_words):\n",
        "    words = text.split()\n",
        "    word_counts = Counter(words)\n",
        "    common_words = word_counts.most_common(num_words)\n",
        "\n",
        "    common_words_dict = {}\n",
        "    for word, count in common_words:\n",
        "        common_words_dict[word] = count\n",
        "\n",
        "    return common_words_dict\n",
        "\n",
        "input_text = \"Cat dog dog cat horse dog dog mouse horse dog mouse tiger lion tiger cat mouse snail\"\n",
        "num_common_words = 3\n",
        "\n",
        "common_words_occurrences = most_common_words(input_text, num_common_words)\n",
        "print(common_words_occurrences)\n"
      ],
      "metadata": {
        "colab": {
          "base_uri": "https://localhost:8080/"
        },
        "id": "DBn3YV-Gf5M6",
        "outputId": "a051f78d-7abe-4143-eef9-7dea5d1486ed"
      },
      "execution_count": null,
      "outputs": [
        {
          "output_type": "stream",
          "name": "stdout",
          "text": [
            "{'dog': 5, 'mouse': 3, 'cat': 2}\n"
          ]
        }
      ]
    },
    {
      "cell_type": "code",
      "source": [
        "#12) Write a Python program that accepts name of given subject and mark, and make subjects as keys in dictionaries and marks as values and print the final\n",
        "#dictionary with subjects and marks"
      ],
      "metadata": {
        "id": "4NVHe4F7gFL-"
      },
      "execution_count": null,
      "outputs": []
    },
    {
      "cell_type": "code",
      "source": [
        "def create_subject_marks_dictionary():\n",
        "    subject_marks = {}\n",
        "    while True:\n",
        "        subject = input(\"Enter subject name (or 'exit' to stop): \")\n",
        "        if subject.lower() == 'exit':\n",
        "            break\n",
        "        mark = float(input(f\"Enter mark for {subject}: \"))\n",
        "        subject_marks[subject] = mark\n",
        "    return subject_marks\n",
        "\n",
        "subject_marks_dict = create_subject_marks_dictionary()\n",
        "print(\"Final Dictionary:\", subject_marks_dict)\n"
      ],
      "metadata": {
        "colab": {
          "base_uri": "https://localhost:8080/"
        },
        "id": "VLlUqRrrgVuO",
        "outputId": "ac44aaff-e901-4138-d4d5-d01befefbc2b"
      },
      "execution_count": null,
      "outputs": [
        {
          "output_type": "stream",
          "name": "stdout",
          "text": [
            "Enter subject name (or 'exit' to stop): english\n",
            "Enter mark for english: 70\n",
            "Enter subject name (or 'exit' to stop): maths\n",
            "Enter mark for maths: 60\n",
            "Enter subject name (or 'exit' to stop): science\n",
            "Enter mark for science: 65\n",
            "Enter subject name (or 'exit' to stop): hindi\n",
            "Enter mark for hindi: 75\n",
            "Enter subject name (or 'exit' to stop): exit\n",
            "Final Dictionary: {'english': 70.0, 'maths': 60.0, 'science': 65.0, 'hindi': 75.0}\n"
          ]
        }
      ]
    }
  ]
}