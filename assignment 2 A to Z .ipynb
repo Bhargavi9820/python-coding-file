{
 "cells": [
  {
   "cell_type": "code",
   "execution_count": 22,
   "id": "15756fae",
   "metadata": {},
   "outputs": [
    {
     "name": "stdout",
     "output_type": "stream",
     "text": [
      " ****** \n",
      "**    **\n",
      "** *  **  \n",
      "**    **\n",
      "**    **\n"
     ]
    }
   ],
   "source": [
    "x=1\n",
    "while x<=5:\n",
    "  if x==1:\n",
    "    print(\" ****** \")\n",
    "  elif (x==2) or (x==4) or (x==5):\n",
    "    print(\"**    **\")\n",
    "  else:\n",
    "    print(\"** *  **  \")\n",
    "  x=x+1       \n",
    "    "
   ]
  },
  {
   "cell_type": "code",
   "execution_count": 13,
   "id": "4c7204c9",
   "metadata": {},
   "outputs": [
    {
     "name": "stdout",
     "output_type": "stream",
     "text": [
      "*  *  *\n",
      "*      *\n",
      "*  *  *\n",
      "*      *\n",
      "*      *\n",
      "*  *  *\n"
     ]
    }
   ],
   "source": [
    "x=1\n",
    "while x<7:\n",
    "  if x==1:\n",
    "    print(\"*  *  *\")\n",
    "  elif (x==2) or (x==4) or (x==5):\n",
    "    print(\"*      *\")\n",
    "  else:\n",
    "    print(\"*  *  *\")\n",
    "  x=x+1\n",
    "    \n",
    "    \n",
    "    \n"
   ]
  },
  {
   "cell_type": "code",
   "execution_count": 24,
   "id": "0ebcd1f8",
   "metadata": {},
   "outputs": [
    {
     "name": "stdout",
     "output_type": "stream",
     "text": [
      "****\n",
      "*\n",
      "*\n",
      "****\n"
     ]
    }
   ],
   "source": [
    "x=1\n",
    "while x<5:\n",
    "  if x==1 or x==4:\n",
    "    print(\"****\")\n",
    "  elif (x==2) or (x==3):\n",
    "    print(\"*\")\n",
    "  else:\n",
    "    print(\"*\")\n",
    "  x=x+1"
   ]
  },
  {
   "cell_type": "code",
   "execution_count": 26,
   "id": "3aac84be",
   "metadata": {},
   "outputs": [
    {
     "name": "stdout",
     "output_type": "stream",
     "text": [
      "* * *\n",
      "*    *\n",
      "*    *\n",
      "* * *\n"
     ]
    }
   ],
   "source": [
    "x=1\n",
    "while x<5:\n",
    " if x==1 or x==4:\n",
    "    print(\"* * *\") \n",
    " elif (x==2) or (x==3):\n",
    "    print(\"*    *\")\n",
    " else:\n",
    "    print(\"*   *\")\n",
    " x=x+1\n",
    "    \n",
    "    \n",
    "  "
   ]
  },
  {
   "cell_type": "code",
   "execution_count": 1,
   "id": "19b15b0b",
   "metadata": {},
   "outputs": [
    {
     "name": "stdout",
     "output_type": "stream",
     "text": [
      "***\n",
      "* \n",
      "***\n",
      "* \n",
      "***\n"
     ]
    }
   ],
   "source": [
    "x=1\n",
    "while x<=5:\n",
    " if x==2 or x==4:\n",
    "    print(\"* \")\n",
    " elif(x==1) or (x==3) or (x==5):\n",
    "    print(\"***\")\n",
    " else:\n",
    "    print(\"* \")\n",
    " x=x+1    \n",
    "    \n",
    " "
   ]
  },
  {
   "cell_type": "code",
   "execution_count": 9,
   "id": "d85b1eb1",
   "metadata": {},
   "outputs": [
    {
     "name": "stdout",
     "output_type": "stream",
     "text": [
      " * * *\n",
      " * \n",
      " * * * \n",
      " * \n",
      " * \n"
     ]
    }
   ],
   "source": [
    "x=1\n",
    "while x<=5:\n",
    " if  x==3:\n",
    "     print(\" * * * \")\n",
    " elif(x==1) or (x==3):\n",
    "     print(\" * * *\")\n",
    " else:\n",
    "     print(\" * \")\n",
    " x=x+1    "
   ]
  },
  {
   "cell_type": "code",
   "execution_count": 34,
   "id": "75bc81ba",
   "metadata": {},
   "outputs": [
    {
     "name": "stdout",
     "output_type": "stream",
     "text": [
      "****\n",
      "*   \n",
      "* ****\n",
      "*    *\n",
      "**** *\n",
      "     *\n"
     ]
    }
   ],
   "source": [
    "x=1\n",
    "while(x<=6):\n",
    "    if(x==1) :\n",
    "        print(\"****\")\n",
    "    elif(x==2):\n",
    "        print(\"*   \")\n",
    "    elif(x==3) :\n",
    "        print(\"* ****\")\n",
    "    elif(x==4):\n",
    "        print(\"*    *\")\n",
    "    elif(x==5):\n",
    "        print(\"**** *\")\n",
    "    else:\n",
    "        print(\"     *\")\n",
    "    x=x+1\n",
    "        \n",
    " "
   ]
  },
  {
   "cell_type": "code",
   "execution_count": 35,
   "id": "ba0df71e",
   "metadata": {},
   "outputs": [
    {
     "name": "stdout",
     "output_type": "stream",
     "text": [
      "*   *\n",
      "*   *\n",
      "*****\n",
      "*   *\n",
      "*   *\n"
     ]
    }
   ],
   "source": [
    " x=1\n",
    "while(x<=5):\n",
    "    if(x==3):\n",
    "        print(\"*****\")\n",
    "    else:\n",
    "        print(\"*   *\")\n",
    "    x=x+1"
   ]
  },
  {
   "cell_type": "code",
   "execution_count": 16,
   "id": "ec672844",
   "metadata": {},
   "outputs": [
    {
     "name": "stdout",
     "output_type": "stream",
     "text": [
      "****\n",
      " * \n",
      " * \n",
      "****\n"
     ]
    }
   ],
   "source": [
    "x=1\n",
    "while x<=4:\n",
    " if x==1 or x==4:\n",
    "    print(\"****\")\n",
    " elif(x==2) or (x==3):\n",
    "    print(\" * \")\n",
    " else:\n",
    "    print(\" * \")\n",
    " x=x+1"
   ]
  },
  {
   "cell_type": "code",
   "execution_count": 20,
   "id": "332f88a4",
   "metadata": {},
   "outputs": [
    {
     "name": "stdout",
     "output_type": "stream",
     "text": [
      "*****\n",
      "  *  \n",
      "  *  \n",
      "***  \n"
     ]
    }
   ],
   "source": [
    "x=1\n",
    "while x<=4:\n",
    " if (x==1):\n",
    "     print(\"*****\")\n",
    " elif(x==2) or (x==3):\n",
    "     print(\"  *  \")\n",
    " else:\n",
    "     print(\"***  \")\n",
    " \n",
    " x=x+1"
   ]
  },
  {
   "cell_type": "code",
   "execution_count": 36,
   "id": "e8ce9cd2",
   "metadata": {},
   "outputs": [
    {
     "name": "stdout",
     "output_type": "stream",
     "text": [
      "*   *\n",
      "* *\n",
      "*\n",
      "* *\n",
      "*   *\n"
     ]
    }
   ],
   "source": [
    "x=1\n",
    "while(x<=5):\n",
    "    if(x==1) or (x==5):\n",
    "        print(\"*   *\")\n",
    "    elif(x==2) or (x==4):\n",
    "        print(\"* *\")\n",
    "    else:\n",
    "        print(\"*\")\n",
    "    x=x+1\n"
   ]
  },
  {
   "cell_type": "code",
   "execution_count": 2,
   "id": "c0f9e390",
   "metadata": {},
   "outputs": [
    {
     "name": "stdout",
     "output_type": "stream",
     "text": [
      "  *  \n",
      "  *  \n",
      "  *  \n",
      "  ****\n"
     ]
    }
   ],
   "source": [
    "x=1\n",
    "while x<=4:\n",
    " if (x==4):\n",
    "     print(\"  ****\")\n",
    " elif (x==1) or (x==2) or (x==3):\n",
    "     print(\"  *  \")\n",
    " else:\n",
    "     print(\"  * \")\n",
    " x=x+1"
   ]
  },
  {
   "cell_type": "code",
   "execution_count": 20,
   "id": "55b529ab",
   "metadata": {},
   "outputs": [
    {
     "name": "stdout",
     "output_type": "stream",
     "text": [
      "*     *\n",
      "* * * *\n",
      "*  *  *\n",
      "*     *\n",
      "*     *\n"
     ]
    }
   ],
   "source": [
    "x=1\n",
    "while(x<=5):\n",
    "    if(x==1) or (x==5) or (x==4):\n",
    "        print(\"*     *\")\n",
    "    elif(x==2) :\n",
    "        print(\"* * * *\")\n",
    "    else:\n",
    "        print(\"*  *  *\")\n",
    "    x=x+1\n",
    "\n"
   ]
  },
  {
   "cell_type": "code",
   "execution_count": 21,
   "id": "3c5a38cb",
   "metadata": {},
   "outputs": [
    {
     "name": "stdout",
     "output_type": "stream",
     "text": [
      "*     *\n",
      "* *   *\n",
      "*  *  *\n",
      "*   * *\n",
      "*     *\n"
     ]
    }
   ],
   "source": [
    "x=1\n",
    "while(x<=5):\n",
    "    if(x==1) or (x==5):\n",
    "        print(\"*     *\")\n",
    "    elif(x==2) :\n",
    "        print(\"* *   *\")\n",
    "    elif(x==3) :\n",
    "        print(\"*  *  *\")\n",
    "    else :\n",
    "        print(\"*   * *\")\n",
    "    x=x+1"
   ]
  },
  {
   "cell_type": "code",
   "execution_count": 22,
   "id": "791c6d5a",
   "metadata": {},
   "outputs": [
    {
     "name": "stdout",
     "output_type": "stream",
     "text": [
      " ***\n",
      "*   *\n",
      "*   *\n",
      "*   *\n",
      " ***\n"
     ]
    }
   ],
   "source": [
    "x=1\n",
    "while(x<=5):\n",
    "    if(x==1) or (x==5) :\n",
    "        print(\" ***\")\n",
    "    else:\n",
    "        print(\"*   *\")\n",
    "    x=x+1"
   ]
  },
  {
   "cell_type": "code",
   "execution_count": 24,
   "id": "89414bc3",
   "metadata": {},
   "outputs": [
    {
     "name": "stdout",
     "output_type": "stream",
     "text": [
      "****\n",
      "*   *\n",
      "*   *\n",
      "****\n",
      "*\n",
      "*\n",
      "*\n"
     ]
    }
   ],
   "source": [
    "x=1\n",
    "while(x<=7):\n",
    "    if(x==1) or (x==4):\n",
    "        print(\"****\")\n",
    "    elif(x==2)or (x==3) :\n",
    "        print(\"*   *\")\n",
    "    else:\n",
    "        print(\"*\")\n",
    "    x=x+1"
   ]
  },
  {
   "cell_type": "code",
   "execution_count": 25,
   "id": "3cfa6105",
   "metadata": {},
   "outputs": [
    {
     "name": "stdout",
     "output_type": "stream",
     "text": [
      " ***\n",
      "*   *\n",
      "*   *\n",
      "*  \\*\n",
      " ***\\\n"
     ]
    }
   ],
   "source": [
    "x=1\n",
    "while(x<=5):\n",
    "    if(x==1):\n",
    "        print(\" ***\")\n",
    "    elif(x==5):\n",
    "        print(\" ***\\\\\")\n",
    "    elif(x==4):\n",
    "        print(\"*  \\\\*\")\n",
    "    else:\n",
    "        print(\"*   *\")\n",
    "    x=x+1"
   ]
  },
  {
   "cell_type": "code",
   "execution_count": 26,
   "id": "668eae6b",
   "metadata": {},
   "outputs": [
    {
     "name": "stdout",
     "output_type": "stream",
     "text": [
      "****\n",
      "*   *\n",
      "*   *\n",
      "****\n",
      "* *\n",
      "*  *\n",
      "*   *\n"
     ]
    }
   ],
   "source": [
    "x=1\n",
    "while(x<=7):\n",
    "    if(x==1) or (x==4):\n",
    "        print(\"****\")\n",
    "    elif(x==2)or (x==3) :\n",
    "        print(\"*   *\")\n",
    "    elif(x==5):\n",
    "        print(\"* *\")\n",
    "    elif(x==6):\n",
    "        print(\"*  *\")\n",
    "    else:\n",
    "        print(\"*   *\")\n",
    "    x=x+1"
   ]
  },
  {
   "cell_type": "code",
   "execution_count": 27,
   "id": "f6d5950b",
   "metadata": {},
   "outputs": [
    {
     "name": "stdout",
     "output_type": "stream",
     "text": [
      "*****\n",
      "*\n",
      "*****\n",
      "    *\n",
      "*****\n"
     ]
    }
   ],
   "source": [
    "x=1\n",
    "while(x<=5):\n",
    "    if(x==1) or (x==5) or (x==3):\n",
    "        print(\"*****\")\n",
    "    elif(x==4):\n",
    "        print(\"    *\")\n",
    "    else:\n",
    "        print(\"*\")\n",
    "    x=x+1"
   ]
  },
  {
   "cell_type": "code",
   "execution_count": 28,
   "id": "5a730aa6",
   "metadata": {},
   "outputs": [
    {
     "name": "stdout",
     "output_type": "stream",
     "text": [
      "*****\n",
      "  *  \n",
      "  *  \n",
      "  *  \n",
      "  *  \n"
     ]
    }
   ],
   "source": [
    "x=1\n",
    "while(x<=5):\n",
    "    if(x==1):\n",
    "        print(\"*****\")\n",
    "    else:\n",
    "        print(\"  *  \")\n",
    "    x=x+1"
   ]
  },
  {
   "cell_type": "code",
   "execution_count": 29,
   "id": "f65f85a4",
   "metadata": {},
   "outputs": [
    {
     "name": "stdout",
     "output_type": "stream",
     "text": [
      "*   *\n",
      "*   *\n",
      "*   *\n",
      "*   *\n",
      "*****\n"
     ]
    }
   ],
   "source": [
    "x=1\n",
    "while(x<=5):\n",
    "    if (x==5) :\n",
    "        print(\"*****\")\n",
    "    else:\n",
    "        print(\"*   *\")\n",
    "    x=x+1"
   ]
  },
  {
   "cell_type": "code",
   "execution_count": 30,
   "id": "6e42f233",
   "metadata": {},
   "outputs": [
    {
     "name": "stdout",
     "output_type": "stream",
     "text": [
      "*       *\n",
      " *     * \n",
      "  *   * \n",
      "   * * \n",
      "    *\n"
     ]
    }
   ],
   "source": [
    "x=1\n",
    "while(x<=5):\n",
    "    if (x==1) :\n",
    "        print(\"*       *\")\n",
    "    elif(x==2):\n",
    "        print(\" *     * \")\n",
    "    elif(x==3):\n",
    "        print(\"  *   * \")\n",
    "    elif(x==4):\n",
    "        print(\"   * * \")\n",
    "    else:\n",
    "        print(\"    *\")\n",
    "    x=x+1"
   ]
  },
  {
   "cell_type": "code",
   "execution_count": 31,
   "id": "3f069188",
   "metadata": {},
   "outputs": [
    {
     "name": "stdout",
     "output_type": "stream",
     "text": [
      "*       *        *\n",
      " *     *  *     * \n",
      "  *   *    *   * \n",
      "   * *      * *  \n",
      "    *        *    \n"
     ]
    }
   ],
   "source": [
    "x=1\n",
    "while(x<=5):\n",
    "    if (x==1) :\n",
    "        print(\"*       *        *\")\n",
    "    elif(x==2):\n",
    "        print(\" *     *  *     * \")\n",
    "    elif(x==3):\n",
    "        print(\"  *   *    *   * \")\n",
    "    elif(x==4):\n",
    "        print(\"   * *      * *  \")\n",
    "    else:\n",
    "        print(\"    *        *    \")\n",
    "    x=x+1"
   ]
  },
  {
   "cell_type": "code",
   "execution_count": 32,
   "id": "e7abaa01",
   "metadata": {},
   "outputs": [
    {
     "name": "stdout",
     "output_type": "stream",
     "text": [
      "*   *\n",
      " * * \n",
      "  *\n",
      " * * \n",
      "*   *\n"
     ]
    }
   ],
   "source": [
    "x=1\n",
    "while(x<=5):\n",
    "    if(x==1) or (x==5):\n",
    "        print(\"*   *\")\n",
    "    elif(x==2) or (x==4):\n",
    "        print(\" * * \")\n",
    "    else:\n",
    "        print(\"  *\")\n",
    "    x=x+1"
   ]
  },
  {
   "cell_type": "code",
   "execution_count": 33,
   "id": "95581464",
   "metadata": {},
   "outputs": [
    {
     "name": "stdout",
     "output_type": "stream",
     "text": [
      "*    *\n",
      " *  * \n",
      "  *\n",
      " *\n",
      "*\n"
     ]
    }
   ],
   "source": [
    "x=1\n",
    "while(x<=5):\n",
    "    if(x==1) :\n",
    "        print(\"*    *\")\n",
    "    elif(x==2) :\n",
    "        print(\" *  * \")\n",
    "    elif(x==4):\n",
    "        print(\" *\")\n",
    "    elif(x==5):\n",
    "        print(\"*\")\n",
    "    else:\n",
    "        print(\"  *\")\n",
    "    x=x+1"
   ]
  },
  {
   "cell_type": "code",
   "execution_count": 37,
   "id": "0cb888c8",
   "metadata": {},
   "outputs": [
    {
     "name": "stdout",
     "output_type": "stream",
     "text": [
      "*****\n",
      "   * \n",
      "  *\n",
      " *\n",
      "*****\n"
     ]
    }
   ],
   "source": [
    "x=1\n",
    "while(x<=5):\n",
    "    if(x==1) or (x==5) :\n",
    "        print(\"*****\")\n",
    "    elif(x==2) :\n",
    "        print(\"   * \")\n",
    "    elif(x==3):\n",
    "        print(\"  *\")\n",
    "    else:\n",
    "        print(\" *\")\n",
    "    x=x+1"
   ]
  },
  {
   "cell_type": "code",
   "execution_count": null,
   "id": "9ea652bc",
   "metadata": {},
   "outputs": [],
   "source": []
  }
 ],
 "metadata": {
  "kernelspec": {
   "display_name": "Python 3 (ipykernel)",
   "language": "python",
   "name": "python3"
  },
  "language_info": {
   "codemirror_mode": {
    "name": "ipython",
    "version": 3
   },
   "file_extension": ".py",
   "mimetype": "text/x-python",
   "name": "python",
   "nbconvert_exporter": "python",
   "pygments_lexer": "ipython3",
   "version": "3.9.12"
  }
 },
 "nbformat": 4,
 "nbformat_minor": 5
}
