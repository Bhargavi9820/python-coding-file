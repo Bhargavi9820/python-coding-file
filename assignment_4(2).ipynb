{
  "nbformat": 4,
  "nbformat_minor": 0,
  "metadata": {
    "colab": {
      "provenance": []
    },
    "kernelspec": {
      "name": "python3",
      "display_name": "Python 3"
    },
    "language_info": {
      "name": "python"
    }
  },
  "cells": [
    {
      "cell_type": "code",
      "execution_count": null,
      "metadata": {
        "id": "Ryo86dfOzH1e"
      },
      "outputs": [],
      "source": [
        "#Write a program to accept two numbers from the user and calculate multiplication, division"
      ]
    },
    {
      "cell_type": "code",
      "source": [
        "num1 = float(input(\"Enter the first number: \"))\n",
        "num2 = float(input(\"Enter the second number: \"))\n",
        "\n",
        "multiplication = num1 * num2\n",
        "division = num1 / num2\n",
        "\n",
        "print(\"The multiplication is:\", multiplication)\n",
        "print(\"The division is:\", division)"
      ],
      "metadata": {
        "colab": {
          "base_uri": "https://localhost:8080/"
        },
        "id": "F0xh1WCpzlGO",
        "outputId": "41e9c85e-09cd-426f-b959-3525be653b00"
      },
      "execution_count": null,
      "outputs": [
        {
          "output_type": "stream",
          "name": "stdout",
          "text": [
            "Enter the first number: 20\n",
            "Enter the second number: 30\n",
            "The multiplication is: 600.0\n",
            "The division is: 0.6666666666666666\n"
          ]
        }
      ]
    },
    {
      "cell_type": "code",
      "source": [
        "#2)Write a python program to print the characters from a string that are present at an even index"
      ],
      "metadata": {
        "id": "t5MZ5kLy0zYD"
      },
      "execution_count": null,
      "outputs": []
    },
    {
      "cell_type": "code",
      "source": [
        "string = input(\"Enter a string: \")\n",
        "\n",
        "even_characters = string[::2]\n",
        "\n",
        "print(\"Characters at even index:\", even_characters)"
      ],
      "metadata": {
        "colab": {
          "base_uri": "https://localhost:8080/"
        },
        "id": "AV1fHk8e0_PD",
        "outputId": "5d1ee754-e1d2-4f63-c283-99552d56480e"
      },
      "execution_count": null,
      "outputs": [
        {
          "output_type": "stream",
          "name": "stdout",
          "text": [
            "Enter a string: bhargavi\n",
            "Characters at even index: bagv\n"
          ]
        }
      ]
    },
    {
      "cell_type": "code",
      "source": [
        "#3 Write a python program to print the characters from a string that are present at an odd index"
      ],
      "metadata": {
        "id": "LegU5nH01mIH"
      },
      "execution_count": null,
      "outputs": []
    },
    {
      "cell_type": "code",
      "source": [
        "\n",
        "string = input(\"Enter a string: \")\n",
        "\n",
        "odd_characters = string[1::2]\n",
        "\n",
        "print(\"Characters at odd index:\", odd_characters)\n"
      ],
      "metadata": {
        "colab": {
          "base_uri": "https://localhost:8080/"
        },
        "id": "hHQIy2a71sS2",
        "outputId": "c15ab8db-1d37-49ee-e80d-606161d112bc"
      },
      "execution_count": null,
      "outputs": [
        {
          "output_type": "stream",
          "name": "stdout",
          "text": [
            "Enter a string: bhargavi\n",
            "Characters at odd index: hrai\n"
          ]
        }
      ]
    },
    {
      "cell_type": "code",
      "source": [
        "#4)Write a python program which will print the sum of the two numbers if the two numbers are even or it will print the\n",
        "#difference of two numbers"
      ],
      "metadata": {
        "id": "pfHuCCLS2H8N"
      },
      "execution_count": null,
      "outputs": []
    },
    {
      "cell_type": "code",
      "source": [
        "num1 = int(input(\"Enter the first number: \"))\n",
        "num2 = int(input(\"Enter the second number: \"))\n",
        "\n",
        "if num1 % 2 == 0 and num2 % 2 == 0:\n",
        "    sum_of_numbers = num1 + num2\n",
        "    print(\"The sum of the two numbers is:\", sum_of_numbers)\n",
        "else:\n",
        "    difference = num1 - num2\n",
        "    print(\"The difference between the two numbers is:\", difference)"
      ],
      "metadata": {
        "colab": {
          "base_uri": "https://localhost:8080/"
        },
        "id": "J6_I5ZnB2R5F",
        "outputId": "8f088e9d-8dc0-4dd1-adae-603b66ceccff"
      },
      "execution_count": null,
      "outputs": [
        {
          "output_type": "stream",
          "name": "stdout",
          "text": [
            "Enter the first number: 35\n",
            "Enter the second number: 25\n",
            "The difference between the two numbers is: 10\n"
          ]
        }
      ]
    },
    {
      "cell_type": "code",
      "source": [
        "#5)Write a python program to convert all even indexed alphabets to upper and odd indexed char\n"
      ],
      "metadata": {
        "id": "pcxBKqZ62lRT"
      },
      "execution_count": null,
      "outputs": []
    },
    {
      "cell_type": "code",
      "source": [
        "string = input(\"Enter a string: \")\n",
        "\n",
        "converted_string = \"\"\n",
        "for index, char in enumerate(string):\n",
        "    if index % 2 == 0:\n",
        "        converted_string += char.upper()\n",
        "    else:\n",
        "        converted_string += char.lower()\n",
        "\n",
        "print(\"Converted string:\", converted_string)"
      ],
      "metadata": {
        "colab": {
          "base_uri": "https://localhost:8080/"
        },
        "id": "hBzi3vJd3glM",
        "outputId": "dc74f65c-7854-4cb1-f5bb-afadaf4245e4"
      },
      "execution_count": null,
      "outputs": [
        {
          "output_type": "stream",
          "name": "stdout",
          "text": [
            "Enter a string: hello\n",
            "Converted string: HeLlO\n"
          ]
        }
      ]
    },
    {
      "cell_type": "code",
      "source": [
        "#6)Write a python program which will print True if the input number is divisible by 5 or else False\n"
      ],
      "metadata": {
        "id": "SSBtP6e231Jh"
      },
      "execution_count": null,
      "outputs": []
    },
    {
      "cell_type": "code",
      "source": [
        "number = int(input(\"Enter a number: \"))\n",
        "\n",
        "if number % 5 == 0:\n",
        "    print(True)\n",
        "else:\n",
        "    print(False)"
      ],
      "metadata": {
        "colab": {
          "base_uri": "https://localhost:8080/"
        },
        "id": "6oR7faHb31pc",
        "outputId": "7405b708-ff19-4d62-f847-4ff7112e247e"
      },
      "execution_count": null,
      "outputs": [
        {
          "output_type": "stream",
          "name": "stdout",
          "text": [
            "Enter a number: 12\n",
            "False\n"
          ]
        }
      ]
    },
    {
      "cell_type": "code",
      "source": [],
      "metadata": {
        "id": "uBR1C-NO4FAa"
      },
      "execution_count": null,
      "outputs": []
    },
    {
      "cell_type": "code",
      "source": [
        "def convert_even_to_upper(s):\n",
        "    return ''.join([char.upper() if i % 2 == 0 and char.isalpha() else char for i, char in enumerate(s)])\n",
        "\n",
        "try:\n",
        "    input_string = input(\"Enter a string: \")\n",
        "    converted_string = convert_even_to_upper(input_string)\n",
        "    print(\"Converted string:\", converted_string)\n",
        "\n",
        "except Exception as e:\n",
        "    print(\"An error occurred:\", e)\n"
      ],
      "metadata": {
        "colab": {
          "base_uri": "https://localhost:8080/"
        },
        "id": "08lvRM6E4TAa",
        "outputId": "6f28ef0f-54e5-4866-e41b-7a6072a3a0ae"
      },
      "execution_count": null,
      "outputs": [
        {
          "output_type": "stream",
          "name": "stdout",
          "text": [
            "Enter a string: bhargavi\n",
            "Converted string: BhArGaVi\n"
          ]
        }
      ]
    },
    {
      "cell_type": "code",
      "source": [
        "#8)Given two strings x, y writes a program to return a new string made of x and y’s first, middle, and last characters\n",
        "#Example:\n",
        "#Input\n",
        "#X=” pytho”\n",
        "#Y=” javas”\n",
        "#Output\n",
        "#\"pjtvos”"
      ],
      "metadata": {
        "id": "T0Xpj7uh4XRh"
      },
      "execution_count": null,
      "outputs": []
    },
    {
      "cell_type": "code",
      "source": [
        "x = input(\"Enter the first string: \")\n",
        "y = input(\"Enter the second string: \")\n",
        "\n",
        "new_string = x[0] + y[0] + x[len(x)//2] + y[len(y)//2] + x[-1] + y[-1]\n",
        "\n",
        "print(\"New string:\", new_string)\n"
      ],
      "metadata": {
        "colab": {
          "base_uri": "https://localhost:8080/"
        },
        "id": "ZiozDSC041Ov",
        "outputId": "630f8b24-e790-4945-8be2-b42b0f5a0b36"
      },
      "execution_count": null,
      "outputs": [
        {
          "output_type": "stream",
          "name": "stdout",
          "text": [
            "Enter the first string: pytho\n",
            "Enter the second string: javas\n",
            "New string: pjtvos\n"
          ]
        }
      ]
    },
    {
      "cell_type": "code",
      "source": [
        "#9) Write a python program to take three names as input from a user in the single input () function call\n",
        "#Example:\n",
        "#Input:\n",
        "#Enter three names: - “person1 person2 person3\n",
        "#Output:"
      ],
      "metadata": {
        "id": "pNKI9Ngn5dnj"
      },
      "execution_count": null,
      "outputs": []
    },
    {
      "cell_type": "code",
      "source": [
        "names = input(\"Enter three names separated by spaces: \")\n",
        "\n",
        "name_list = names.split()\n",
        "\n",
        "print(\"Names entered:\", name_list)"
      ],
      "metadata": {
        "colab": {
          "base_uri": "https://localhost:8080/"
        },
        "id": "B-sNIGnv5yJP",
        "outputId": "8232ba4c-1ea8-474b-86e2-139827e52fac"
      },
      "execution_count": null,
      "outputs": [
        {
          "output_type": "stream",
          "name": "stdout",
          "text": [
            "Enter three names separated by spaces: person1 person2 person3\n",
            "Names entered: ['person1', 'person2', 'person3']\n"
          ]
        }
      ]
    },
    {
      "cell_type": "code",
      "source": [
        "#10)Write a Python program to get a string from a given string where all occurrences of its first char have been\n",
        "#changed to '@', except the first char itself.\n",
        "#Example:\n",
        "#Input:\n",
        "#'malayalam’\n",
        "#Output:\n",
        "#'malayala@\n",
        "#Input:\n",
        "#' abcabab'\n",
        "#Output:\n",
        "#‘abc@b@b’"
      ],
      "metadata": {
        "id": "8RObd5Ov6dQR"
      },
      "execution_count": null,
      "outputs": []
    },
    {
      "cell_type": "code",
      "source": [
        "string = input(\"Enter a string: \")\n",
        "\n",
        "first_char = string[0]\n",
        "second_char = string[0]\n",
        "modified_string = first_char + string[1:].replace(first_char, '@')\n",
        "modified_string = second_char + string[1:].replace(second_char, '@')\n",
        "\n",
        "print(\"Modified string:\", modified_string)\n"
      ],
      "metadata": {
        "colab": {
          "base_uri": "https://localhost:8080/"
        },
        "id": "tORsEPsr6eON",
        "outputId": "d3ccf04c-c765-4b8d-e6f2-5113175d9c64"
      },
      "execution_count": null,
      "outputs": [
        {
          "output_type": "stream",
          "name": "stdout",
          "text": [
            "Enter a string: malayalam\n",
            "Modified string: malayala@\n"
          ]
        }
      ]
    },
    {
      "cell_type": "code",
      "source": [
        "#11)Write a Python program to add 'ing' at the end of a given  string (string length should be equal to or more than 3). If\n",
        "#the given string already ends with 'ing' then add 'ly' instead. If the string length of the given string is less than 3, leave it\n",
        "#unchanged\n",
        "#Example:\n",
        "#Input:\n",
        "#'sing’\n",
        "#Output:\n",
        "#'singing'nput:\n",
        "#' playing'\n",
        "#Output:\n",
        "#‘playly’\n",
        "#Input:\n",
        "#' on'\n",
        "#Output:\n",
        "#‘on\n"
      ],
      "metadata": {
        "id": "s6TB1Ra1sVsn"
      },
      "execution_count": null,
      "outputs": []
    },
    {
      "cell_type": "code",
      "source": [
        "def modify_string(input_string):\n",
        "    if len(input_string) >= 3:\n",
        "        if input_string.endswith(\"ing\"):\n",
        "            return input_string + \"ly\"\n",
        "        else:\n",
        "            return input_string + \"ing\"\n",
        "    else:\n",
        "        return input_string\n",
        "\n",
        "input_1 = 'sing'\n",
        "output_1 = modify_string(input_1)\n",
        "print(\"Input:\", input_1)\n",
        "print(\"Output:\", output_1)\n",
        "\n",
        "input_2 = 'playing'\n",
        "output_2 = modify_string(input_2)\n",
        "print(\"Input:\", input_2)\n",
        "print(\"Output:\", output_2)\n",
        "\n",
        "input_3 = 'on'\n",
        "output_3 = modify_string(input_3)\n",
        "print(\"Input:\", input_3)\n",
        "print(\"Output:\", output_3)\n"
      ],
      "metadata": {
        "colab": {
          "base_uri": "https://localhost:8080/"
        },
        "id": "u_gWYXkmtHPu",
        "outputId": "e22d154a-b9a2-40f0-c88a-803acd0616ce"
      },
      "execution_count": null,
      "outputs": [
        {
          "output_type": "stream",
          "name": "stdout",
          "text": [
            "Input: sing\n",
            "Output: singly\n",
            "Input: playing\n",
            "Output: playingly\n",
            "Input: on\n",
            "Output: on\n"
          ]
        }
      ]
    },
    {
      "cell_type": "code",
      "source": [
        "#12)Write a python program that accepts two inputs num1 and num2 print True if one of them is 10 or if their sum is 10\n",
        "#otherwise print False"
      ],
      "metadata": {
        "id": "umlrvEITuCTm"
      },
      "execution_count": null,
      "outputs": []
    },
    {
      "cell_type": "code",
      "source": [
        "num1 = int(input(\"Enter the first number: \"))\n",
        "num2 = int(input(\"Enter the second number: \"))\n",
        "\n",
        "if num1 == 10 or num2 == 10 or num1 + num2 == 10:\n",
        "    print(True)\n",
        "else:\n",
        "    print(False)\n"
      ],
      "metadata": {
        "colab": {
          "base_uri": "https://localhost:8080/"
        },
        "id": "QKlcW8n0uU0f",
        "outputId": "d4f2580d-a247-4eac-9a2f-30ce3f9462ed"
      },
      "execution_count": null,
      "outputs": [
        {
          "output_type": "stream",
          "name": "stdout",
          "text": [
            "Enter the first number: 10\n",
            "Enter the second number: 10\n",
            "True\n"
          ]
        },
        {
          "output_type": "execute_result",
          "data": {
            "text/plain": [
              "1"
            ]
          },
          "metadata": {},
          "execution_count": 4
        }
      ]
    },
    {
      "cell_type": "code",
      "source": [
        "#13)Write a python program that accepts three inputs x, y and z print True if x*y>z otherwise False"
      ],
      "metadata": {
        "id": "pSuBQ8iqugNe"
      },
      "execution_count": null,
      "outputs": []
    },
    {
      "cell_type": "code",
      "source": [
        "x = int(input(\"Enter the value of x: \"))\n",
        "y = int(input(\"Enter the value of y: \"))\n",
        "z = int(input(\"Enter the value of z: \"))\n",
        "\n",
        "if x * y > z:\n",
        "    print(True)\n",
        "else:\n",
        "    print(False)"
      ],
      "metadata": {
        "colab": {
          "base_uri": "https://localhost:8080/"
        },
        "id": "IMbZvo1duzbI",
        "outputId": "fb772c3d-5b4f-4735-f50f-5293d366ec4f"
      },
      "execution_count": null,
      "outputs": [
        {
          "output_type": "stream",
          "name": "stdout",
          "text": [
            "Enter the value of x: 30\n",
            "Enter the value of y: 40\n",
            "Enter the value of z: 25\n",
            "True\n"
          ]
        }
      ]
    },
    {
      "cell_type": "code",
      "source": [
        "#14)Write a python program that accepts two strings inputs return True depending on whether the total number of\n",
        "#characters in the first string is equal to the total number of characters in the second string"
      ],
      "metadata": {
        "id": "iu6LwrFGvFnR"
      },
      "execution_count": null,
      "outputs": []
    },
    {
      "cell_type": "code",
      "source": [
        "string1 = input(\"Enter the first string: \")\n",
        "string2 = input(\"Enter the second string: \")\n",
        "\n",
        "if len(string1) == len(string2):\n",
        "    print(True)\n",
        "else:\n",
        "    print(False)"
      ],
      "metadata": {
        "colab": {
          "base_uri": "https://localhost:8080/"
        },
        "id": "zzkYpPg3vWf_",
        "outputId": "22d95dfd-7414-48a1-b90f-eee44a9a298f"
      },
      "execution_count": null,
      "outputs": [
        {
          "output_type": "stream",
          "name": "stdout",
          "text": [
            "Enter the first string: bhargavi\n",
            "Enter the second string: muramkar\n",
            "True\n"
          ]
        }
      ]
    },
    {
      "cell_type": "code",
      "source": [
        "#15)Write a python program that takes a string input, we'll say that the front is the first three characters of the string. If the\n",
        "#string length is less than three characters, the front is whatever is there. Return a new string, which is three copies\n",
        "#of the front"
      ],
      "metadata": {
        "id": "9Vdc3J3Hvg2l"
      },
      "execution_count": null,
      "outputs": []
    },
    {
      "cell_type": "code",
      "source": [],
      "metadata": {
        "id": "oQAiso7dv7vN"
      },
      "execution_count": null,
      "outputs": []
    },
    {
      "cell_type": "code",
      "source": [
        "def front_times(string):\n",
        "    front = string[:3]\n",
        "    return front * 3\n",
        "\n",
        "input_string = input(\"Enter a string: \")\n",
        "result = front_times(input_string)\n",
        "print(result)\n"
      ],
      "metadata": {
        "colab": {
          "base_uri": "https://localhost:8080/"
        },
        "id": "zlPSy2Zqvrvg",
        "outputId": "e51a8da1-fc61-46f4-cd87-59f907879be0"
      },
      "execution_count": null,
      "outputs": [
        {
          "output_type": "stream",
          "name": "stdout",
          "text": [
            "Enter a string: seen\n",
            "seeseesee\n"
          ]
        }
      ]
    },
    {
      "cell_type": "code",
      "source": [
        "#16)Write a python program that takes in a word and determines whether or not it is plural. A plural word is one\n",
        "#that ends in \"s\"."
      ],
      "metadata": {
        "id": "l76CNIz3we6o"
      },
      "execution_count": null,
      "outputs": []
    },
    {
      "cell_type": "code",
      "source": [
        "def is_plural(word):\n",
        "    if word.endswith(\"s\"):\n",
        "        return True\n",
        "    else:\n",
        "        return False\n",
        "\n",
        "input_word = input(\"Enter a word: \")\n",
        "result = is_plural(input_word)\n",
        "print(result)\n"
      ],
      "metadata": {
        "colab": {
          "base_uri": "https://localhost:8080/"
        },
        "id": "YM-P4kZyw89r",
        "outputId": "9174657b-0dc2-4e02-c0f5-f0190be4aa93"
      },
      "execution_count": 10,
      "outputs": [
        {
          "output_type": "stream",
          "name": "stdout",
          "text": [
            "Enter a word: starts\n",
            "True\n"
          ]
        }
      ]
    },
    {
      "cell_type": "code",
      "source": [
        "#17)A bartender is writing a simple program to determine whether he should serve drinks to someone. He only serves\n",
        "#drinks to people 18 and older and when he's not on break (True means break and False means not a break time). Given\n",
        "#the person's age, and whether break time is in session, create\n",
        "#a python program which prints whether he should serve\n",
        "#drinks or not."
      ],
      "metadata": {
        "id": "mdHC_NqDxdyS"
      },
      "execution_count": null,
      "outputs": []
    },
    {
      "cell_type": "code",
      "source": [
        "def should_serve_drinks(age, is_break_time):\n",
        "    if age >= 18 and not is_break_time:\n",
        "        return \"Serve drinks\"\n",
        "    else:\n",
        "        return \"Do not serve drinks\"\n",
        "\n",
        "person_age = int(input(\"Enter the person's age: \"))\n",
        "break_time = input(\"Is it break time? (True/False): \").lower() == \"true\"\n",
        "result = should_serve_drinks(person_age, break_time)\n",
        "print(result)\n"
      ],
      "metadata": {
        "colab": {
          "base_uri": "https://localhost:8080/"
        },
        "id": "c9VTH7o_xeOY",
        "outputId": "7de89e95-5e94-422b-d1c3-957bee9373cb"
      },
      "execution_count": 11,
      "outputs": [
        {
          "output_type": "stream",
          "name": "stdout",
          "text": [
            "Enter the person's age: 19\n",
            "Is it break time? (True/False): true\n",
            "Do not serve drinks\n"
          ]
        }
      ]
    },
    {
      "cell_type": "code",
      "source": [
        "#18)Manoj Kumar has family and friends. Help him remind them who is who. Given a string with a name, return the\n",
        "#relation of that person to Manoj Kumar.\n",
        "#Person Relation\n",
        "#Shiva father\n",
        "#Letha mother\n",
        "#Tarun brother\n",
        "#Kavitha sister"
      ],
      "metadata": {
        "id": "h33o110kx8TQ"
      },
      "execution_count": null,
      "outputs": []
    },
    {
      "cell_type": "code",
      "source": [
        "def get_relation(name):\n",
        "    relations = {\n",
        "        \"Shiva\": \"father\",\n",
        "        \"Letha\": \"mother\",\n",
        "        \"Tarun\": \"brother\",\n",
        "        \"Kavitha\": \"sister\"\n",
        "    }\n",
        "    if name in relations:\n",
        "        return relations[name]\n",
        "    else:\n",
        "        return \"Unknown\"\n",
        "\n",
        "person_name = input(\"Enter the person's name: \")\n",
        "relation = get_relation(person_name)\n",
        "print(relation)"
      ],
      "metadata": {
        "colab": {
          "base_uri": "https://localhost:8080/"
        },
        "id": "bqTO91_NyoVZ",
        "outputId": "d5288750-c4b9-439e-8459-3710086e2478"
      },
      "execution_count": 16,
      "outputs": [
        {
          "output_type": "stream",
          "name": "stdout",
          "text": [
            "Enter the person's name:  shiva\n",
            "Unknown\n"
          ]
        }
      ]
    },
    {
      "cell_type": "code",
      "source": [
        "#19)Write a python program that takes a string, breaks it up and returns it with vowels first, consonants second. For any\n",
        "#character that's not a vowel (like special characters or spaces), treat them like consonants"
      ],
      "metadata": {
        "id": "Is33pApUzFR9"
      },
      "execution_count": null,
      "outputs": []
    },
    {
      "cell_type": "code",
      "source": [
        "def sort_string(string):\n",
        "    vowels = \"\"\n",
        "    consonants = \"\"\n",
        "    for char in string:\n",
        "        if char.lower() in 'aeiou':\n",
        "            vowels += char\n",
        "        else:\n",
        "            consonants += char\n",
        "    return vowels + consonants\n",
        "\n",
        "input_string = input(\"Enter a string: \")\n",
        "sorted_string = sort_string(input_string)\n",
        "print(sorted_string)"
      ],
      "metadata": {
        "colab": {
          "base_uri": "https://localhost:8080/"
        },
        "id": "pu2hU5RxzeHO",
        "outputId": "e50ec6d6-df5d-487d-d162-434db18b8232"
      },
      "execution_count": 17,
      "outputs": [
        {
          "output_type": "stream",
          "name": "stdout",
          "text": [
            "Enter a string: apple\n",
            "aeppl\n"
          ]
        }
      ]
    },
    {
      "cell_type": "code",
      "source": [
        "#20)Create a dynamic calculator which asks for numbers and operator and return the answers\n",
        "#Example\n",
        "#Input:\n",
        "#Type first number: 10\n",
        "#Type any of this (+, -, *, /, %, **): *\n",
        "#Type second number: 19\n",
        "#Output:\n",
        "#Answer is 190"
      ],
      "metadata": {
        "id": "iJpDpq3wzpJ1"
      },
      "execution_count": null,
      "outputs": []
    },
    {
      "cell_type": "code",
      "source": [
        "def calculator():\n",
        "    num1 = float(input(\"Type the first number: \"))\n",
        "    operator = input(\"Type any of these operators (+, -, *, /, %, **): \")\n",
        "    num2 = float(input(\"Type the second number: \"))\n",
        "\n",
        "    if operator == \"+\":\n",
        "        result = num1 + num2\n",
        "    elif operator == \"-\":\n",
        "        result = num1 - num2\n",
        "    elif operator == \"*\":\n",
        "        result = num1 * num2\n",
        "    elif operator == \"/\":\n",
        "        result = num1 / num2\n",
        "    elif operator == \"%\":\n",
        "        result = num1 % num2\n",
        "    elif operator == \"**\":\n",
        "        result = num1 ** num2\n",
        "    else:\n",
        "        result = \"Invalid operator\"\n",
        "\n",
        "    return result\n",
        "\n",
        "answer = calculator()\n",
        "print(answer)"
      ],
      "metadata": {
        "colab": {
          "base_uri": "https://localhost:8080/"
        },
        "id": "eMOTaLyO0np5",
        "outputId": "fb903536-6213-4e82-8c77-ed580f40de89"
      },
      "execution_count": 18,
      "outputs": [
        {
          "output_type": "stream",
          "name": "stdout",
          "text": [
            "Type the first number: 10\n",
            "Type any of these operators (+, -, *, /, %, **): *\n",
            "Type the second number: 19\n",
            "190.0\n"
          ]
        }
      ]
    }
  ]
}